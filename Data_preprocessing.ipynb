{
  "nbformat": 4,
  "nbformat_minor": 0,
  "metadata": {
    "colab": {
      "provenance": [],
      "include_colab_link": true
    },
    "kernelspec": {
      "name": "python3",
      "display_name": "Python 3"
    },
    "language_info": {
      "name": "python"
    }
  },
  "cells": [
    {
      "cell_type": "markdown",
      "metadata": {
        "id": "view-in-github",
        "colab_type": "text"
      },
      "source": [
        "<a href=\"https://colab.research.google.com/github/miki2123j/Amazon-Reviews-Spam-Detection-using-LLM-Model/blob/main/Data_preprocessing.ipynb\" target=\"_parent\"><img src=\"https://colab.research.google.com/assets/colab-badge.svg\" alt=\"Open In Colab\"/></a>"
      ]
    },
    {
      "cell_type": "markdown",
      "source": [
        "# Cleaning and manupulation"
      ],
      "metadata": {
        "id": "JH6YnhHzSHPy"
      }
    },
    {
      "cell_type": "markdown",
      "source": [
        "Install any dependencies using pip"
      ],
      "metadata": {
        "id": "FfLpV-zvkc0a"
      }
    },
    {
      "cell_type": "code",
      "source": [
        "!pip install colorama\n",
        "!pip install pyspark"
      ],
      "metadata": {
        "id": "bJ3xGcRZkMTu",
        "colab": {
          "base_uri": "https://localhost:8080/"
        },
        "outputId": "596969fd-7456-466f-b1be-c9ca98ec023a"
      },
      "execution_count": null,
      "outputs": [
        {
          "output_type": "stream",
          "name": "stdout",
          "text": [
            "Collecting colorama\n",
            "  Downloading colorama-0.4.6-py2.py3-none-any.whl (25 kB)\n",
            "Installing collected packages: colorama\n",
            "Successfully installed colorama-0.4.6\n",
            "Collecting pyspark\n",
            "  Downloading pyspark-3.5.0.tar.gz (316.9 MB)\n",
            "\u001b[2K     \u001b[90m━━━━━━━━━━━━━━━━━━━━━━━━━━━━━━━━━━━━━━━━\u001b[0m \u001b[32m316.9/316.9 MB\u001b[0m \u001b[31m1.5 MB/s\u001b[0m eta \u001b[36m0:00:00\u001b[0m\n",
            "\u001b[?25h  Preparing metadata (setup.py) ... \u001b[?25l\u001b[?25hdone\n",
            "Requirement already satisfied: py4j==0.10.9.7 in /usr/local/lib/python3.10/dist-packages (from pyspark) (0.10.9.7)\n",
            "Building wheels for collected packages: pyspark\n",
            "  Building wheel for pyspark (setup.py) ... \u001b[?25l\u001b[?25hdone\n",
            "  Created wheel for pyspark: filename=pyspark-3.5.0-py2.py3-none-any.whl size=317425345 sha256=2b8cdeb825b006fe0254c62c81377a9be501c0e0c9b9bec99319dbccf6c79f38\n",
            "  Stored in directory: /root/.cache/pip/wheels/41/4e/10/c2cf2467f71c678cfc8a6b9ac9241e5e44a01940da8fbb17fc\n",
            "Successfully built pyspark\n",
            "Installing collected packages: pyspark\n",
            "Successfully installed pyspark-3.5.0\n"
          ]
        }
      ]
    },
    {
      "cell_type": "markdown",
      "source": [
        "Import Packages here"
      ],
      "metadata": {
        "id": "mRXRasb4khPt"
      }
    },
    {
      "cell_type": "code",
      "source": [
        "from pyspark.sql import SparkSession\n",
        "from pyspark.sql.functions import col, sum\n",
        "import colorama\n",
        "from colorama import Fore, Style  # makes strings colored\n",
        "from termcolor import colored\n",
        "from termcolor import cprint\n",
        "from datetime import datetime\n",
        "from pyspark.sql.functions import col, udf\n",
        "from pyspark.sql.types import DateType\n",
        "from pyspark.sql.functions import to_date\n",
        "from pyspark.sql.functions import regexp_replace\n",
        "import pyspark.sql.functions as F"
      ],
      "metadata": {
        "id": "xzDOIFndjspg"
      },
      "execution_count": null,
      "outputs": []
    },
    {
      "source": [
        "# configuration option to LEGACY to ensure that they are parsed correctly. the show() method on your DataFrame should work.\n",
        "spark = SparkSession.builder.getOrCreate()\n",
        "spark.conf.set(\"spark.sql.legacy.timeParserPolicy\", \"LEGACY\")\n"
      ],
      "cell_type": "code",
      "metadata": {
        "id": "900Y9sNhkFnx"
      },
      "execution_count": null,
      "outputs": []
    },
    {
      "cell_type": "markdown",
      "source": [
        "## Loading in the data"
      ],
      "metadata": {
        "id": "Co8atRfiSr5Z"
      }
    },
    {
      "cell_type": "code",
      "source": [
        "from google.colab import drive\n",
        "drive.mount('/content/drive')"
      ],
      "metadata": {
        "id": "OYMzUY-RqGdZ",
        "colab": {
          "base_uri": "https://localhost:8080/"
        },
        "outputId": "ccfef857-6356-4486-a952-2c4e940e4cae"
      },
      "execution_count": null,
      "outputs": [
        {
          "output_type": "stream",
          "name": "stdout",
          "text": [
            "Mounted at /content/drive\n"
          ]
        }
      ]
    },
    {
      "cell_type": "code",
      "source": [
        "# Create a Spark session\n",
        "spark = SparkSession.builder.appName(\"ImportLargeFile\").getOrCreate()\n",
        "\n",
        "# Replace 'your_file_path' with the actual path to your 18GB file\n",
        "file_path = \"/content/drive/MyDrive/archive (3)/Cell_Phones_and_Accessories/Cell_Phones_and_Accessories.json\"\n",
        "\n",
        "# Read the file into a DataFrame\n",
        "df = spark.read.json(file_path)\n",
        "df_copy = df.select(*df.columns)\n",
        "\n",
        "# Show the first few rows of the DataFrame\n",
        "df_copy.show()"
      ],
      "metadata": {
        "id": "sI1grurqJjwS",
        "colab": {
          "base_uri": "https://localhost:8080/"
        },
        "outputId": "a188b466-2cd3-421c-f802-eabcb2d84ab6"
      },
      "execution_count": null,
      "outputs": [
        {
          "output_type": "stream",
          "name": "stdout",
          "text": [
            "+--------------------+----------+--------------------+-----+-------+-------+--------------------+-----------+--------------+--------------------+--------------------+--------------+\n",
            "|                 _id|      asin|            category|class|helpful|overall|          reviewText| reviewTime|    reviewerID|        reviewerName|             summary|unixReviewTime|\n",
            "+--------------------+----------+--------------------+-----+-------+-------+--------------------+-----------+--------------+--------------------+--------------------+--------------+\n",
            "|{5a1321d5741a2384...|0110400550|Cell_Phones_and_A...|  1.0| [4, 4]|    5.0|Best phone case e...|01 13, 2013| A3HVRXV0LVJN7|        BiancaNicole|               A++++|    1358035200|\n",
            "|{5a1321d5741a2384...|0110400550|Cell_Phones_and_A...|  0.0| [0, 3]|    1.0|ITEM NOT SENT fro...|01 30, 2013|A1BJGDS0L1IO6I|              cf \"t\"|     ITEM NOT SENT!!|    1359504000|\n",
            "|{5a1321d5741a2384...|0110400550|Cell_Phones_and_A...|  1.0| [0, 0]|    5.0|Saw this same cas...|11 22, 2012| A1YX2RBMS1L9L|        Andrea Busch|       Great product|    1353542400|\n",
            "|{5a1321d5741a2384...|0110400550|Cell_Phones_and_A...|  1.0| [3, 3]|    5.0|case fits perfect...|07 18, 2013|A180NNPPKWCCU0|    Aniya pennington|             Perfect|    1374105600|\n",
            "|{5a1321d5741a2384...|0110400550|Cell_Phones_and_A...|  1.0| [1, 1]|    4.0|I got this for my...|03 20, 2013|A30P2CYOUYAJM8|                Gene|      Cool purchase.|    1363737600|\n",
            "|{5a1321d5741a2384...|0110400550|Cell_Phones_and_A...|  1.0| [6, 6]|    5.0|This case is extr...|07 14, 2012|A2UCUB1VC1SDJK|             Justine|          asdfghjkl;|    1342224000|\n",
            "|{5a1321d5741a2384...|0110400550|Cell_Phones_and_A...|  0.0| [0, 1]|    3.0|The case is good,...|12 20, 2012|A1KO9L34Z7548N|      clevebrowns626|    OK for the price|    1355961600|\n",
            "|{5a1321d5741a2384...|011040047X|Cell_Phones_and_A...|  0.0| [2, 2]|    1.0|The case pictured...|08 14, 2012|A1EWN6KZ4HMLT7|         S. Prescott|         Wrong color|    1344902400|\n",
            "|{5a1321d5741a2384...|0110400550|Cell_Phones_and_A...|  0.0| [1, 2]|    1.0|I ordered this as...|06 15, 2013| A1LNL9KCAUBIT|               Karla|Doesn't Work at A...|    1371254400|\n",
            "|{5a1321d5741a2384...|0110400550|Cell_Phones_and_A...|  0.0| [0, 0]|    3.0|I like the case f...|01 18, 2014|A2WDCRQNARX6MG|           Kimberley|     doenst fit good|    1390003200|\n",
            "|{5a1321d5741a2384...|0110400550|Cell_Phones_and_A...|  0.0| [0, 2]|    1.0|As excited as I w...|11 12, 2012|A2HL78OBL9UYRE|              Kstyle|                 POS|    1352678400|\n",
            "|{5a1321d5741a2384...|0110400550|Cell_Phones_and_A...|  1.0| [5, 5]|    5.0|I got the case ve...|08 19, 2012|A14C9GGECI06HU|               Lanie|            Amazing!|    1345334400|\n",
            "|{5a1321d5741a2384...|0110400550|Cell_Phones_and_A...|  0.0| [1, 1]|    2.0|this is a cute ca...| 01 8, 2014| ANG01NK4RXCI9|Charles Kodi Bomb...|                 meh|    1389139200|\n",
            "|{5a1321d5741a2384...|0110400550|Cell_Phones_and_A...|  1.0| [4, 4]|    5.0|I ordered this an...|11 18, 2012|A31IRT3Q3VZCBN|                Kiki|          Great case|    1353196800|\n",
            "|{5a1321d5741a2384...|0110400550|Cell_Phones_and_A...|  0.0| [0, 0]|    3.0|it came in ok but...|12 25, 2013| AL7D46UHDVZVC|              Claire|             alright|    1387929600|\n",
            "|{5a1321d5741a2384...|0110400550|Cell_Phones_and_A...|  0.0| [0, 1]|    1.0|It may look cute....|11 26, 2012|A292527VPX98P8|              Cebell|     Do NOT GET IT!!|    1353888000|\n",
            "|{5a1321d5741a2384...|0110400550|Cell_Phones_and_A...|  0.0| [0, 0]|    2.0|slips off almost ...| 07 6, 2014|A1MGIQYOKFU7OF|            Leann Li|but the quality w...|    1404604800|\n",
            "|{5a1321d5741a2384...|0110400550|Cell_Phones_and_A...|  0.0| [1, 2]|    2.0|I was expecting a...|07 25, 2013|A2OLC6TDGS0WT7|            Maddy927|              Upset.|    1374710400|\n",
            "|{5a1321d5741a2384...|0110400550|Cell_Phones_and_A...|  0.0| [1, 2]|    2.0|this case is very...|07 15, 2013| ALY3HL0U9AV00|                Meli|i didn't really l...|    1373846400|\n",
            "|{5a1321d5741a2384...|0110400550|Cell_Phones_and_A...|  1.0| [1, 1]|    4.0|The case is super...|11 17, 2013|A3KN7WFLV7LKBM|       Heather Evans|Awesome iPhone ca...|    1384646400|\n",
            "+--------------------+----------+--------------------+-----+-------+-------+--------------------+-----------+--------------+--------------------+--------------------+--------------+\n",
            "only showing top 20 rows\n",
            "\n"
          ]
        }
      ]
    },
    {
      "cell_type": "markdown",
      "source": [
        "## Data Preprocessing"
      ],
      "metadata": {
        "id": "xFAu6_BfwQ-p"
      }
    },
    {
      "cell_type": "code",
      "source": [
        "df_copy.printSchema()"
      ],
      "metadata": {
        "colab": {
          "base_uri": "https://localhost:8080/"
        },
        "id": "SCBKQM69wjBL",
        "outputId": "6b6044ad-5f48-43b9-b20b-ace52a3b3708"
      },
      "execution_count": null,
      "outputs": [
        {
          "output_type": "stream",
          "name": "stdout",
          "text": [
            "root\n",
            " |-- _id: struct (nullable = true)\n",
            " |    |-- $oid: string (nullable = true)\n",
            " |-- asin: string (nullable = true)\n",
            " |-- category: string (nullable = true)\n",
            " |-- class: double (nullable = true)\n",
            " |-- helpful: array (nullable = true)\n",
            " |    |-- element: long (containsNull = true)\n",
            " |-- overall: double (nullable = true)\n",
            " |-- reviewText: string (nullable = true)\n",
            " |-- reviewTime: string (nullable = true)\n",
            " |-- reviewerID: string (nullable = true)\n",
            " |-- reviewerName: string (nullable = true)\n",
            " |-- summary: string (nullable = true)\n",
            " |-- unixReviewTime: long (nullable = true)\n",
            "\n"
          ]
        }
      ]
    },
    {
      "cell_type": "code",
      "source": [
        "#checking the unique values of a column\n",
        "\n",
        "unique_names = df_copy.select(\"class\").distinct()\n",
        "unique_names.show()"
      ],
      "metadata": {
        "id": "2--NfB73JkFB",
        "colab": {
          "base_uri": "https://localhost:8080/"
        },
        "outputId": "a7912dbf-d6b3-4ad5-8516-3fe4068ed642"
      },
      "execution_count": null,
      "outputs": [
        {
          "output_type": "stream",
          "name": "stdout",
          "text": [
            "+-----+\n",
            "|class|\n",
            "+-----+\n",
            "|  0.0|\n",
            "|  1.0|\n",
            "+-----+\n",
            "\n"
          ]
        }
      ]
    },
    {
      "cell_type": "markdown",
      "source": [
        "## Check for duplicate values and remove them"
      ],
      "metadata": {
        "id": "uG2K1xrqjc-8"
      }
    },
    {
      "cell_type": "code",
      "source": [
        "#function that identify duplicate values and remove them from the dataframe\n",
        "def duplicate_values(df):\n",
        "    \"\"\"\n",
        "    Drops duplicate values from a PySpark dataframe.\n",
        "\n",
        "    Args:\n",
        "        df: The PySpark dataframe to check for duplicates.\n",
        "\n",
        "    Returns:\n",
        "        None\n",
        "    \"\"\"\n",
        "\n",
        "    print(colored(\"Duplicate check...\", attrs=['bold']), sep='')\n",
        "\n",
        "    # Check for duplicate values\n",
        "    duplicate_values = df.drop_duplicates().count()\n",
        "\n",
        "    # If there are duplicates, drop them\n",
        "    if duplicate_values > 0:\n",
        "        df = df.drop_duplicates()  # Remove the 'inplace' keyword argument\n",
        "        print(duplicate_values, colored(\" Duplicates were dropped!\"), '\\n',\n",
        "              colored('*'*100, 'red', attrs=['bold']), sep='')\n",
        "    else:\n",
        "        print(colored(\"No duplicates found.\", attrs=['bold']), '\\n',\n",
        "              colored('*'*100, 'green', attrs=['bold']), sep='')"
      ],
      "metadata": {
        "id": "CCdeCFHgh8RB"
      },
      "execution_count": null,
      "outputs": []
    },
    {
      "cell_type": "code",
      "source": [
        "duplicate_values(df_copy)"
      ],
      "metadata": {
        "colab": {
          "base_uri": "https://localhost:8080/"
        },
        "id": "LwKMuLbA5XNA",
        "outputId": "e9571547-6a2a-40f3-a930-3edb33634523"
      },
      "execution_count": null,
      "outputs": [
        {
          "output_type": "stream",
          "name": "stdout",
          "text": [
            "Duplicate check...\n",
            "3185845 Duplicates were dropped!\n",
            "****************************************************************************************************\n"
          ]
        }
      ]
    },
    {
      "cell_type": "markdown",
      "source": [
        "## Removing special characters"
      ],
      "metadata": {
        "id": "G41X7FGCXiak"
      }
    },
    {
      "cell_type": "code",
      "source": [
        "df_copy = df_copy.withColumn(\"_id\", col(\"_id\").getField(\"$oid\"))\n",
        "df_copy = df_copy.withColumn(\"_id\", regexp_replace(col(\"_id\"), \"[{}]\", \"\"))"
      ],
      "metadata": {
        "id": "IAbv1NSOYNiH"
      },
      "execution_count": null,
      "outputs": []
    },
    {
      "cell_type": "code",
      "source": [
        "df_copy.show()"
      ],
      "metadata": {
        "colab": {
          "base_uri": "https://localhost:8080/"
        },
        "id": "_acN2v6ufvyB",
        "outputId": "45b068e8-43e5-4b82-f7bd-ba11d832f606"
      },
      "execution_count": null,
      "outputs": [
        {
          "output_type": "stream",
          "name": "stdout",
          "text": [
            "+--------------------+----------+--------------------+-----+-------+-------+--------------------+-----------+--------------+--------------------+--------------------+--------------+\n",
            "|                 _id|      asin|            category|class|helpful|overall|          reviewText| reviewTime|    reviewerID|        reviewerName|             summary|unixReviewTime|\n",
            "+--------------------+----------+--------------------+-----+-------+-------+--------------------+-----------+--------------+--------------------+--------------------+--------------+\n",
            "|5a1321d5741a2384e...|0110400550|Cell_Phones_and_A...|  1.0| [4, 4]|    5.0|Best phone case e...|01 13, 2013| A3HVRXV0LVJN7|        BiancaNicole|               A++++|    1358035200|\n",
            "|5a1321d5741a2384e...|0110400550|Cell_Phones_and_A...|  0.0| [0, 3]|    1.0|ITEM NOT SENT fro...|01 30, 2013|A1BJGDS0L1IO6I|              cf \"t\"|     ITEM NOT SENT!!|    1359504000|\n",
            "|5a1321d5741a2384e...|0110400550|Cell_Phones_and_A...|  1.0| [0, 0]|    5.0|Saw this same cas...|11 22, 2012| A1YX2RBMS1L9L|        Andrea Busch|       Great product|    1353542400|\n",
            "|5a1321d5741a2384e...|0110400550|Cell_Phones_and_A...|  1.0| [3, 3]|    5.0|case fits perfect...|07 18, 2013|A180NNPPKWCCU0|    Aniya pennington|             Perfect|    1374105600|\n",
            "|5a1321d5741a2384e...|0110400550|Cell_Phones_and_A...|  1.0| [1, 1]|    4.0|I got this for my...|03 20, 2013|A30P2CYOUYAJM8|                Gene|      Cool purchase.|    1363737600|\n",
            "|5a1321d5741a2384e...|0110400550|Cell_Phones_and_A...|  1.0| [6, 6]|    5.0|This case is extr...|07 14, 2012|A2UCUB1VC1SDJK|             Justine|          asdfghjkl;|    1342224000|\n",
            "|5a1321d5741a2384e...|0110400550|Cell_Phones_and_A...|  0.0| [0, 1]|    3.0|The case is good,...|12 20, 2012|A1KO9L34Z7548N|      clevebrowns626|    OK for the price|    1355961600|\n",
            "|5a1321d5741a2384e...|011040047X|Cell_Phones_and_A...|  0.0| [2, 2]|    1.0|The case pictured...|08 14, 2012|A1EWN6KZ4HMLT7|         S. Prescott|         Wrong color|    1344902400|\n",
            "|5a1321d5741a2384e...|0110400550|Cell_Phones_and_A...|  0.0| [1, 2]|    1.0|I ordered this as...|06 15, 2013| A1LNL9KCAUBIT|               Karla|Doesn't Work at A...|    1371254400|\n",
            "|5a1321d5741a2384e...|0110400550|Cell_Phones_and_A...|  0.0| [0, 0]|    3.0|I like the case f...|01 18, 2014|A2WDCRQNARX6MG|           Kimberley|     doenst fit good|    1390003200|\n",
            "|5a1321d5741a2384e...|0110400550|Cell_Phones_and_A...|  0.0| [0, 2]|    1.0|As excited as I w...|11 12, 2012|A2HL78OBL9UYRE|              Kstyle|                 POS|    1352678400|\n",
            "|5a1321d5741a2384e...|0110400550|Cell_Phones_and_A...|  1.0| [5, 5]|    5.0|I got the case ve...|08 19, 2012|A14C9GGECI06HU|               Lanie|            Amazing!|    1345334400|\n",
            "|5a1321d5741a2384e...|0110400550|Cell_Phones_and_A...|  0.0| [1, 1]|    2.0|this is a cute ca...| 01 8, 2014| ANG01NK4RXCI9|Charles Kodi Bomb...|                 meh|    1389139200|\n",
            "|5a1321d5741a2384e...|0110400550|Cell_Phones_and_A...|  1.0| [4, 4]|    5.0|I ordered this an...|11 18, 2012|A31IRT3Q3VZCBN|                Kiki|          Great case|    1353196800|\n",
            "|5a1321d5741a2384e...|0110400550|Cell_Phones_and_A...|  0.0| [0, 0]|    3.0|it came in ok but...|12 25, 2013| AL7D46UHDVZVC|              Claire|             alright|    1387929600|\n",
            "|5a1321d5741a2384e...|0110400550|Cell_Phones_and_A...|  0.0| [0, 1]|    1.0|It may look cute....|11 26, 2012|A292527VPX98P8|              Cebell|     Do NOT GET IT!!|    1353888000|\n",
            "|5a1321d5741a2384e...|0110400550|Cell_Phones_and_A...|  0.0| [0, 0]|    2.0|slips off almost ...| 07 6, 2014|A1MGIQYOKFU7OF|            Leann Li|but the quality w...|    1404604800|\n",
            "|5a1321d5741a2384e...|0110400550|Cell_Phones_and_A...|  0.0| [1, 2]|    2.0|I was expecting a...|07 25, 2013|A2OLC6TDGS0WT7|            Maddy927|              Upset.|    1374710400|\n",
            "|5a1321d5741a2384e...|0110400550|Cell_Phones_and_A...|  0.0| [1, 2]|    2.0|this case is very...|07 15, 2013| ALY3HL0U9AV00|                Meli|i didn't really l...|    1373846400|\n",
            "|5a1321d5741a2384e...|0110400550|Cell_Phones_and_A...|  1.0| [1, 1]|    4.0|The case is super...|11 17, 2013|A3KN7WFLV7LKBM|       Heather Evans|Awesome iPhone ca...|    1384646400|\n",
            "+--------------------+----------+--------------------+-----+-------+-------+--------------------+-----------+--------------+--------------------+--------------------+--------------+\n",
            "only showing top 20 rows\n",
            "\n"
          ]
        }
      ]
    },
    {
      "cell_type": "markdown",
      "source": [
        "## Identifiying the missing values for each columns"
      ],
      "metadata": {
        "id": "iAghrbeASa34"
      }
    },
    {
      "cell_type": "code",
      "source": [
        "# Select the columns you want to check for missing values\n",
        "relevant_columns = [c for c in df_copy.columns]\n",
        "\n",
        "# Count the missing values in each column and display the result\n",
        "df_copy.select(*[sum(col(c).isNull().cast(\"int\")).alias(c) for c in relevant_columns]).show()\n"
      ],
      "metadata": {
        "id": "faFZDQDAQNjz",
        "colab": {
          "base_uri": "https://localhost:8080/"
        },
        "outputId": "aa922f01-2948-4a57-f9d5-b9856261913d"
      },
      "execution_count": null,
      "outputs": [
        {
          "output_type": "stream",
          "name": "stdout",
          "text": [
            "+---+----+--------+-----+-------+-------+----------+----------+----------+------------+-------+--------------+\n",
            "|_id|asin|category|class|helpful|overall|reviewText|reviewTime|reviewerID|reviewerName|summary|unixReviewTime|\n",
            "+---+----+--------+-----+-------+-------+----------+----------+----------+------------+-------+--------------+\n",
            "|  0|   0|       0|    0|      0|      0|         0|         0|         0|       35568|      0|             0|\n",
            "+---+----+--------+-----+-------+-------+----------+----------+----------+------------+-------+--------------+\n",
            "\n"
          ]
        }
      ]
    },
    {
      "cell_type": "markdown",
      "source": [
        "## Cleaning missing values"
      ],
      "metadata": {
        "id": "PnfT_MVhTOh8"
      }
    },
    {
      "cell_type": "code",
      "source": [
        "3# A function that fills null values of a column with given value\n",
        "def fill_null_values(data, new_value, column):\n",
        "  data = data.na.fill(new_value,[column])\n",
        "  return data\n"
      ],
      "metadata": {
        "id": "qe4KgZYBXk_P"
      },
      "execution_count": null,
      "outputs": []
    },
    {
      "cell_type": "code",
      "source": [
        "#filling null value of 'label' column with a constant 0\n",
        "#df_copy = fill_null_values(df_copy, 0, 'label')"
      ],
      "metadata": {
        "id": "nE2fxHI-6QVk"
      },
      "execution_count": null,
      "outputs": []
    },
    {
      "cell_type": "code",
      "source": [
        "#filling null value of 'reviewername' column with a constant \"Unknown\"\n",
        "df_copy = fill_null_values(df_copy, 'Unknown', 'reviewerName')"
      ],
      "metadata": {
        "id": "93bgf7TXVDjz"
      },
      "execution_count": null,
      "outputs": []
    },
    {
      "cell_type": "code",
      "source": [
        "df_copy.show()"
      ],
      "metadata": {
        "id": "ZE_yb7m6xVpc",
        "colab": {
          "base_uri": "https://localhost:8080/"
        },
        "outputId": "8e0505a7-37f1-4985-e343-40094d343d6f"
      },
      "execution_count": null,
      "outputs": [
        {
          "output_type": "stream",
          "name": "stdout",
          "text": [
            "+--------------------+----------+--------------------+-----+-------+-------+--------------------+-----------+--------------+--------------------+--------------------+--------------+\n",
            "|                 _id|      asin|            category|class|helpful|overall|          reviewText| reviewTime|    reviewerID|        reviewerName|             summary|unixReviewTime|\n",
            "+--------------------+----------+--------------------+-----+-------+-------+--------------------+-----------+--------------+--------------------+--------------------+--------------+\n",
            "|5a1321d5741a2384e...|0110400550|Cell_Phones_and_A...|  1.0| [4, 4]|    5.0|Best phone case e...|01 13, 2013| A3HVRXV0LVJN7|        BiancaNicole|               A++++|    1358035200|\n",
            "|5a1321d5741a2384e...|0110400550|Cell_Phones_and_A...|  0.0| [0, 3]|    1.0|ITEM NOT SENT fro...|01 30, 2013|A1BJGDS0L1IO6I|              cf \"t\"|     ITEM NOT SENT!!|    1359504000|\n",
            "|5a1321d5741a2384e...|0110400550|Cell_Phones_and_A...|  1.0| [0, 0]|    5.0|Saw this same cas...|11 22, 2012| A1YX2RBMS1L9L|        Andrea Busch|       Great product|    1353542400|\n",
            "|5a1321d5741a2384e...|0110400550|Cell_Phones_and_A...|  1.0| [3, 3]|    5.0|case fits perfect...|07 18, 2013|A180NNPPKWCCU0|    Aniya pennington|             Perfect|    1374105600|\n",
            "|5a1321d5741a2384e...|0110400550|Cell_Phones_and_A...|  1.0| [1, 1]|    4.0|I got this for my...|03 20, 2013|A30P2CYOUYAJM8|                Gene|      Cool purchase.|    1363737600|\n",
            "|5a1321d5741a2384e...|0110400550|Cell_Phones_and_A...|  1.0| [6, 6]|    5.0|This case is extr...|07 14, 2012|A2UCUB1VC1SDJK|             Justine|          asdfghjkl;|    1342224000|\n",
            "|5a1321d5741a2384e...|0110400550|Cell_Phones_and_A...|  0.0| [0, 1]|    3.0|The case is good,...|12 20, 2012|A1KO9L34Z7548N|      clevebrowns626|    OK for the price|    1355961600|\n",
            "|5a1321d5741a2384e...|011040047X|Cell_Phones_and_A...|  0.0| [2, 2]|    1.0|The case pictured...|08 14, 2012|A1EWN6KZ4HMLT7|         S. Prescott|         Wrong color|    1344902400|\n",
            "|5a1321d5741a2384e...|0110400550|Cell_Phones_and_A...|  0.0| [1, 2]|    1.0|I ordered this as...|06 15, 2013| A1LNL9KCAUBIT|               Karla|Doesn't Work at A...|    1371254400|\n",
            "|5a1321d5741a2384e...|0110400550|Cell_Phones_and_A...|  0.0| [0, 0]|    3.0|I like the case f...|01 18, 2014|A2WDCRQNARX6MG|           Kimberley|     doenst fit good|    1390003200|\n",
            "|5a1321d5741a2384e...|0110400550|Cell_Phones_and_A...|  0.0| [0, 2]|    1.0|As excited as I w...|11 12, 2012|A2HL78OBL9UYRE|              Kstyle|                 POS|    1352678400|\n",
            "|5a1321d5741a2384e...|0110400550|Cell_Phones_and_A...|  1.0| [5, 5]|    5.0|I got the case ve...|08 19, 2012|A14C9GGECI06HU|               Lanie|            Amazing!|    1345334400|\n",
            "|5a1321d5741a2384e...|0110400550|Cell_Phones_and_A...|  0.0| [1, 1]|    2.0|this is a cute ca...| 01 8, 2014| ANG01NK4RXCI9|Charles Kodi Bomb...|                 meh|    1389139200|\n",
            "|5a1321d5741a2384e...|0110400550|Cell_Phones_and_A...|  1.0| [4, 4]|    5.0|I ordered this an...|11 18, 2012|A31IRT3Q3VZCBN|                Kiki|          Great case|    1353196800|\n",
            "|5a1321d5741a2384e...|0110400550|Cell_Phones_and_A...|  0.0| [0, 0]|    3.0|it came in ok but...|12 25, 2013| AL7D46UHDVZVC|              Claire|             alright|    1387929600|\n",
            "|5a1321d5741a2384e...|0110400550|Cell_Phones_and_A...|  0.0| [0, 1]|    1.0|It may look cute....|11 26, 2012|A292527VPX98P8|              Cebell|     Do NOT GET IT!!|    1353888000|\n",
            "|5a1321d5741a2384e...|0110400550|Cell_Phones_and_A...|  0.0| [0, 0]|    2.0|slips off almost ...| 07 6, 2014|A1MGIQYOKFU7OF|            Leann Li|but the quality w...|    1404604800|\n",
            "|5a1321d5741a2384e...|0110400550|Cell_Phones_and_A...|  0.0| [1, 2]|    2.0|I was expecting a...|07 25, 2013|A2OLC6TDGS0WT7|            Maddy927|              Upset.|    1374710400|\n",
            "|5a1321d5741a2384e...|0110400550|Cell_Phones_and_A...|  0.0| [1, 2]|    2.0|this case is very...|07 15, 2013| ALY3HL0U9AV00|                Meli|i didn't really l...|    1373846400|\n",
            "|5a1321d5741a2384e...|0110400550|Cell_Phones_and_A...|  1.0| [1, 1]|    4.0|The case is super...|11 17, 2013|A3KN7WFLV7LKBM|       Heather Evans|Awesome iPhone ca...|    1384646400|\n",
            "+--------------------+----------+--------------------+-----+-------+-------+--------------------+-----------+--------------+--------------------+--------------------+--------------+\n",
            "only showing top 20 rows\n",
            "\n"
          ]
        }
      ]
    },
    {
      "cell_type": "markdown",
      "source": [
        "## Converting dtypes"
      ],
      "metadata": {
        "id": "TEK3Q3l4kuAd"
      }
    },
    {
      "cell_type": "code",
      "source": [
        "# A function that converts a given string dframe column to date dframe column\n",
        "def convert_to_date(data, column_name):\n",
        "  data = data.withColumn(column_name, to_date(column_name, \"MM dd, yyyy\"))\n",
        "  return data"
      ],
      "metadata": {
        "id": "n_5nD5_Ob226"
      },
      "execution_count": null,
      "outputs": []
    },
    {
      "cell_type": "code",
      "source": [
        "df_copy = convert_to_date(df_copy, 'reviewTime')"
      ],
      "metadata": {
        "id": "_CnBoP7n3Djz"
      },
      "execution_count": null,
      "outputs": []
    },
    {
      "cell_type": "code",
      "source": [
        "df_copy.printSchema()"
      ],
      "metadata": {
        "id": "Mv2ZW6Rly7To",
        "colab": {
          "base_uri": "https://localhost:8080/"
        },
        "outputId": "ca143d0e-95c2-40bf-b663-46d99a24b754"
      },
      "execution_count": null,
      "outputs": [
        {
          "output_type": "stream",
          "name": "stdout",
          "text": [
            "root\n",
            " |-- _id: string (nullable = true)\n",
            " |-- asin: string (nullable = true)\n",
            " |-- category: string (nullable = true)\n",
            " |-- class: double (nullable = true)\n",
            " |-- helpful: array (nullable = true)\n",
            " |    |-- element: long (containsNull = true)\n",
            " |-- overall: double (nullable = true)\n",
            " |-- reviewText: string (nullable = true)\n",
            " |-- reviewTime: date (nullable = true)\n",
            " |-- reviewerID: string (nullable = true)\n",
            " |-- reviewerName: string (nullable = false)\n",
            " |-- summary: string (nullable = true)\n",
            " |-- unixReviewTime: long (nullable = true)\n",
            "\n"
          ]
        }
      ]
    },
    {
      "cell_type": "code",
      "source": [
        "df_copy.show(5)"
      ],
      "metadata": {
        "id": "c5sewO9P_IMk",
        "colab": {
          "base_uri": "https://localhost:8080/"
        },
        "outputId": "e6ab17c8-88b3-4be5-a5e9-4b6ea96b213a"
      },
      "execution_count": null,
      "outputs": [
        {
          "output_type": "stream",
          "name": "stdout",
          "text": [
            "+--------------------+----------+--------------------+-----+-------+-------+--------------------+----------+--------------+----------------+---------------+--------------+\n",
            "|                 _id|      asin|            category|class|helpful|overall|          reviewText|reviewTime|    reviewerID|    reviewerName|        summary|unixReviewTime|\n",
            "+--------------------+----------+--------------------+-----+-------+-------+--------------------+----------+--------------+----------------+---------------+--------------+\n",
            "|5a1321d5741a2384e...|0110400550|Cell_Phones_and_A...|  1.0| [4, 4]|    5.0|Best phone case e...|2013-01-13| A3HVRXV0LVJN7|    BiancaNicole|          A++++|    1358035200|\n",
            "|5a1321d5741a2384e...|0110400550|Cell_Phones_and_A...|  0.0| [0, 3]|    1.0|ITEM NOT SENT fro...|2013-01-30|A1BJGDS0L1IO6I|          cf \"t\"|ITEM NOT SENT!!|    1359504000|\n",
            "|5a1321d5741a2384e...|0110400550|Cell_Phones_and_A...|  1.0| [0, 0]|    5.0|Saw this same cas...|2012-11-22| A1YX2RBMS1L9L|    Andrea Busch|  Great product|    1353542400|\n",
            "|5a1321d5741a2384e...|0110400550|Cell_Phones_and_A...|  1.0| [3, 3]|    5.0|case fits perfect...|2013-07-18|A180NNPPKWCCU0|Aniya pennington|        Perfect|    1374105600|\n",
            "|5a1321d5741a2384e...|0110400550|Cell_Phones_and_A...|  1.0| [1, 1]|    4.0|I got this for my...|2013-03-20|A30P2CYOUYAJM8|            Gene| Cool purchase.|    1363737600|\n",
            "+--------------------+----------+--------------------+-----+-------+-------+--------------------+----------+--------------+----------------+---------------+--------------+\n",
            "only showing top 5 rows\n",
            "\n"
          ]
        }
      ]
    },
    {
      "cell_type": "markdown",
      "source": [
        "## Dropping irrelvant columns"
      ],
      "metadata": {
        "id": "2AWFgYeOk401"
      }
    },
    {
      "cell_type": "code",
      "source": [
        "df_copy = df_copy.drop('asin', 'helpful', 'reviewerID', 'reviewerName', 'summary', 'unixReviewTime')\n"
      ],
      "metadata": {
        "id": "sO19l610z4aH"
      },
      "execution_count": null,
      "outputs": []
    },
    {
      "cell_type": "code",
      "source": [
        "df_copy.show()"
      ],
      "metadata": {
        "colab": {
          "base_uri": "https://localhost:8080/"
        },
        "id": "bLMIzb6ZjW6_",
        "outputId": "9e73dfe1-ce54-41ac-94b0-1e40c6cc90c5"
      },
      "execution_count": null,
      "outputs": [
        {
          "output_type": "stream",
          "name": "stdout",
          "text": [
            "+--------------------+--------------------+-----+-------+--------------------+----------+\n",
            "|                 _id|            category|class|overall|          reviewText|reviewTime|\n",
            "+--------------------+--------------------+-----+-------+--------------------+----------+\n",
            "|5a1321d5741a2384e...|Cell_Phones_and_A...|  1.0|    5.0|Best phone case e...|2013-01-13|\n",
            "|5a1321d5741a2384e...|Cell_Phones_and_A...|  0.0|    1.0|ITEM NOT SENT fro...|2013-01-30|\n",
            "|5a1321d5741a2384e...|Cell_Phones_and_A...|  1.0|    5.0|Saw this same cas...|2012-11-22|\n",
            "|5a1321d5741a2384e...|Cell_Phones_and_A...|  1.0|    5.0|case fits perfect...|2013-07-18|\n",
            "|5a1321d5741a2384e...|Cell_Phones_and_A...|  1.0|    4.0|I got this for my...|2013-03-20|\n",
            "|5a1321d5741a2384e...|Cell_Phones_and_A...|  1.0|    5.0|This case is extr...|2012-07-14|\n",
            "|5a1321d5741a2384e...|Cell_Phones_and_A...|  0.0|    3.0|The case is good,...|2012-12-20|\n",
            "|5a1321d5741a2384e...|Cell_Phones_and_A...|  0.0|    1.0|The case pictured...|2012-08-14|\n",
            "|5a1321d5741a2384e...|Cell_Phones_and_A...|  0.0|    1.0|I ordered this as...|2013-06-15|\n",
            "|5a1321d5741a2384e...|Cell_Phones_and_A...|  0.0|    3.0|I like the case f...|2014-01-18|\n",
            "|5a1321d5741a2384e...|Cell_Phones_and_A...|  0.0|    1.0|As excited as I w...|2012-11-12|\n",
            "|5a1321d5741a2384e...|Cell_Phones_and_A...|  1.0|    5.0|I got the case ve...|2012-08-19|\n",
            "|5a1321d5741a2384e...|Cell_Phones_and_A...|  0.0|    2.0|this is a cute ca...|2014-01-08|\n",
            "|5a1321d5741a2384e...|Cell_Phones_and_A...|  1.0|    5.0|I ordered this an...|2012-11-18|\n",
            "|5a1321d5741a2384e...|Cell_Phones_and_A...|  0.0|    3.0|it came in ok but...|2013-12-25|\n",
            "|5a1321d5741a2384e...|Cell_Phones_and_A...|  0.0|    1.0|It may look cute....|2012-11-26|\n",
            "|5a1321d5741a2384e...|Cell_Phones_and_A...|  0.0|    2.0|slips off almost ...|2014-07-06|\n",
            "|5a1321d5741a2384e...|Cell_Phones_and_A...|  0.0|    2.0|I was expecting a...|2013-07-25|\n",
            "|5a1321d5741a2384e...|Cell_Phones_and_A...|  0.0|    2.0|this case is very...|2013-07-15|\n",
            "|5a1321d5741a2384e...|Cell_Phones_and_A...|  1.0|    4.0|The case is super...|2013-11-17|\n",
            "+--------------------+--------------------+-----+-------+--------------------+----------+\n",
            "only showing top 20 rows\n",
            "\n"
          ]
        }
      ]
    },
    {
      "cell_type": "code",
      "source": [
        "out_put_path = \"/content/drive/MyDrive/Colab Notebooks/cleaned data\"\n",
        "df_copy.coalesce(1).write.json(out_put_path, mode= \"overwrite\")\n"
      ],
      "metadata": {
        "id": "KyzOlknNfftb"
      },
      "execution_count": null,
      "outputs": []
    },
    {
      "source": [],
      "cell_type": "code",
      "metadata": {
        "id": "EpbNs14En0mF"
      },
      "execution_count": null,
      "outputs": []
    },
    {
      "source": [],
      "cell_type": "code",
      "metadata": {
        "id": "xWYyt9LWomVY"
      },
      "execution_count": null,
      "outputs": []
    },
    {
      "cell_type": "code",
      "source": [],
      "metadata": {
        "id": "EmI-qB5lfhCL"
      },
      "execution_count": null,
      "outputs": []
    }
  ]
}