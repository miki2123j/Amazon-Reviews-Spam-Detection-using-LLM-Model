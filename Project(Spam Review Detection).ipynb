{
 "cells": [
  {
   "cell_type": "code",
   "execution_count": 1,
   "metadata": {
    "colab": {
     "base_uri": "https://localhost:8080/"
    },
    "executionInfo": {
     "elapsed": 6571,
     "status": "ok",
     "timestamp": 1707867004633,
     "user": {
      "displayName": "Eyob B",
      "userId": "15011973701671782938"
     },
     "user_tz": 300
    },
    "id": "OU0f9-AjYNzC",
    "outputId": "4a5524af-0f0b-4113-a107-eca03b0dd956"
   },
   "outputs": [
    {
     "name": "stderr",
     "output_type": "stream",
     "text": [
      "[nltk_data] Downloading package stopwords to\n",
      "[nltk_data]     C:\\Users\\User\\AppData\\Roaming\\nltk_data...\n",
      "[nltk_data]   Package stopwords is already up-to-date!\n",
      "[nltk_data] Downloading package punkt to\n",
      "[nltk_data]     C:\\Users\\User\\AppData\\Roaming\\nltk_data...\n",
      "[nltk_data]   Package punkt is already up-to-date!\n",
      "[nltk_data] Downloading package wordnet to\n",
      "[nltk_data]     C:\\Users\\User\\AppData\\Roaming\\nltk_data...\n",
      "[nltk_data]   Package wordnet is already up-to-date!\n"
     ]
    },
    {
     "data": {
      "text/plain": [
       "True"
      ]
     },
     "execution_count": 1,
     "metadata": {},
     "output_type": "execute_result"
    }
   ],
   "source": [
    "import numpy as np\n",
    "import pandas as pd\n",
    "import seaborn as sns\n",
    "import matplotlib.pyplot as plt\n",
    "%matplotlib inline\n",
    "import warnings, string\n",
    "warnings.filterwarnings('ignore')\n",
    "from nltk.corpus import stopwords\n",
    "from sklearn.feature_extraction.text import CountVectorizer\n",
    "from sklearn.feature_extraction.text import TfidfTransformer, CountVectorizer\n",
    "from sklearn.metrics import classification_report, confusion_matrix, accuracy_score\n",
    "from sklearn.model_selection import train_test_split , GridSearchCV\n",
    "from sklearn.naive_bayes import MultinomialNB\n",
    "from sklearn.pipeline import Pipeline\n",
    "from sklearn.ensemble import RandomForestClassifier\n",
    "from sklearn.tree import DecisionTreeClassifier\n",
    "from sklearn.neighbors import KNeighborsClassifier\n",
    "from sklearn.svm import SVC\n",
    "from sklearn.linear_model import LogisticRegression\n",
    "from sklearn.feature_extraction.text import CountVectorizer\n",
    "import string\n",
    "import nltk\n",
    "\n",
    "from nltk import word_tokenize\n",
    "from nltk.stem import PorterStemmer\n",
    "from nltk.stem import WordNetLemmatizer\n",
    "from concurrent.futures import ProcessPoolExecutor\n",
    "\n",
    "\n",
    "nltk.download('stopwords')\n",
    "nltk.download('punkt')\n",
    "nltk.download('wordnet')\n"
   ]
  },
  {
   "cell_type": "code",
   "execution_count": 2,
   "metadata": {},
   "outputs": [
    {
     "name": "stderr",
     "output_type": "stream",
     "text": [
      "[nltk_data] Downloading package stopwords to\n",
      "[nltk_data]     C:\\Users\\User\\AppData\\Roaming\\nltk_data...\n",
      "[nltk_data]   Package stopwords is already up-to-date!\n"
     ]
    },
    {
     "data": {
      "text/plain": [
       "True"
      ]
     },
     "execution_count": 2,
     "metadata": {},
     "output_type": "execute_result"
    }
   ],
   "source": [
    "import nltk\n",
    "nltk.download('stopwords')"
   ]
  },
  {
   "cell_type": "code",
   "execution_count": 3,
   "metadata": {
    "colab": {
     "base_uri": "https://localhost:8080/"
    },
    "executionInfo": {
     "elapsed": 1228,
     "status": "ok",
     "timestamp": 1707867011683,
     "user": {
      "displayName": "Eyob B",
      "userId": "15011973701671782938"
     },
     "user_tz": 300
    },
    "id": "HYyHi4bareup",
    "outputId": "80bb42be-cf5e-40d4-c14a-193c120ad8f1"
   },
   "outputs": [],
   "source": [
    "#from google.colab import drive\n",
    "#drive.mount('/content/drive')"
   ]
  },
  {
   "cell_type": "code",
   "execution_count": 4,
   "metadata": {
    "executionInfo": {
     "elapsed": 41226,
     "status": "ok",
     "timestamp": 1707867056161,
     "user": {
      "displayName": "Eyob B",
      "userId": "15011973701671782938"
     },
     "user_tz": 300
    },
    "id": "clg1tlJ1w9qC"
   },
   "outputs": [],
   "source": [
    "\n",
    "import pandas as pd\n",
    "\n",
    "#  correct file path and extension\n",
    "file_path = \"updated_data.json\"\n",
    "\n",
    "# Read the JSON file into a DataFrame\n",
    "df = pd.read_json(file_path, lines=True)\n"
   ]
  },
  {
   "cell_type": "code",
   "execution_count": 5,
   "metadata": {
    "colab": {
     "base_uri": "https://localhost:8080/",
     "height": 206
    },
    "executionInfo": {
     "elapsed": 206,
     "status": "ok",
     "timestamp": 1707867061446,
     "user": {
      "displayName": "Eyob B",
      "userId": "15011973701671782938"
     },
     "user_tz": 300
    },
    "id": "-I--DGaGzZPR",
    "outputId": "1c847b0d-fbb0-4d83-c108-1049b6a061b2"
   },
   "outputs": [
    {
     "data": {
      "text/html": [
       "<div>\n",
       "<style scoped>\n",
       "    .dataframe tbody tr th:only-of-type {\n",
       "        vertical-align: middle;\n",
       "    }\n",
       "\n",
       "    .dataframe tbody tr th {\n",
       "        vertical-align: top;\n",
       "    }\n",
       "\n",
       "    .dataframe thead th {\n",
       "        text-align: right;\n",
       "    }\n",
       "</style>\n",
       "<table border=\"1\" class=\"dataframe\">\n",
       "  <thead>\n",
       "    <tr style=\"text-align: right;\">\n",
       "      <th></th>\n",
       "      <th>_id</th>\n",
       "      <th>category</th>\n",
       "      <th>class</th>\n",
       "      <th>overall</th>\n",
       "      <th>reviewText</th>\n",
       "      <th>reviewTime</th>\n",
       "    </tr>\n",
       "  </thead>\n",
       "  <tbody>\n",
       "    <tr>\n",
       "      <th>0</th>\n",
       "      <td>5a1321d5741a2384e802c552</td>\n",
       "      <td>Cell_Phones_and_Accessories</td>\n",
       "      <td>1</td>\n",
       "      <td>5</td>\n",
       "      <td>Best phone case ever . Everywhere I go I get a...</td>\n",
       "      <td>2013-01-13</td>\n",
       "    </tr>\n",
       "    <tr>\n",
       "      <th>1</th>\n",
       "      <td>5a1321d5741a2384e802c557</td>\n",
       "      <td>Cell_Phones_and_Accessories</td>\n",
       "      <td>0</td>\n",
       "      <td>1</td>\n",
       "      <td>ITEM NOT SENT from Blue Top Company in Hong Ko...</td>\n",
       "      <td>2013-01-30</td>\n",
       "    </tr>\n",
       "    <tr>\n",
       "      <th>2</th>\n",
       "      <td>5a1321d5741a2384e802c550</td>\n",
       "      <td>Cell_Phones_and_Accessories</td>\n",
       "      <td>1</td>\n",
       "      <td>5</td>\n",
       "      <td>Saw this same case at a theme park store for 2...</td>\n",
       "      <td>2012-11-22</td>\n",
       "    </tr>\n",
       "    <tr>\n",
       "      <th>3</th>\n",
       "      <td>5a1321d5741a2384e802c553</td>\n",
       "      <td>Cell_Phones_and_Accessories</td>\n",
       "      <td>1</td>\n",
       "      <td>5</td>\n",
       "      <td>case fits perfectly and I always gets complime...</td>\n",
       "      <td>2013-07-18</td>\n",
       "    </tr>\n",
       "    <tr>\n",
       "      <th>4</th>\n",
       "      <td>5a1321d5741a2384e802c559</td>\n",
       "      <td>Cell_Phones_and_Accessories</td>\n",
       "      <td>1</td>\n",
       "      <td>4</td>\n",
       "      <td>I got this for my 14 year old sister.  She lov...</td>\n",
       "      <td>2013-03-20</td>\n",
       "    </tr>\n",
       "  </tbody>\n",
       "</table>\n",
       "</div>"
      ],
      "text/plain": [
       "                        _id                     category  class  overall  \\\n",
       "0  5a1321d5741a2384e802c552  Cell_Phones_and_Accessories      1        5   \n",
       "1  5a1321d5741a2384e802c557  Cell_Phones_and_Accessories      0        1   \n",
       "2  5a1321d5741a2384e802c550  Cell_Phones_and_Accessories      1        5   \n",
       "3  5a1321d5741a2384e802c553  Cell_Phones_and_Accessories      1        5   \n",
       "4  5a1321d5741a2384e802c559  Cell_Phones_and_Accessories      1        4   \n",
       "\n",
       "                                          reviewText  reviewTime  \n",
       "0  Best phone case ever . Everywhere I go I get a...  2013-01-13  \n",
       "1  ITEM NOT SENT from Blue Top Company in Hong Ko...  2013-01-30  \n",
       "2  Saw this same case at a theme park store for 2...  2012-11-22  \n",
       "3  case fits perfectly and I always gets complime...  2013-07-18  \n",
       "4  I got this for my 14 year old sister.  She lov...  2013-03-20  "
      ]
     },
     "execution_count": 5,
     "metadata": {},
     "output_type": "execute_result"
    }
   ],
   "source": [
    "# Display the first few rows of the DataFrame\n",
    "df.head()"
   ]
  },
  {
   "cell_type": "code",
   "execution_count": 6,
   "metadata": {
    "colab": {
     "base_uri": "https://localhost:8080/"
    },
    "executionInfo": {
     "elapsed": 176,
     "status": "ok",
     "timestamp": 1707867062819,
     "user": {
      "displayName": "Eyob B",
      "userId": "15011973701671782938"
     },
     "user_tz": 300
    },
    "id": "V0qEP52JzZ7d",
    "outputId": "1de1ddb9-ccb2-4d8b-e0de-3aa817aa8074"
   },
   "outputs": [
    {
     "data": {
      "text/plain": [
       "(3185845, 6)"
      ]
     },
     "execution_count": 6,
     "metadata": {},
     "output_type": "execute_result"
    }
   ],
   "source": [
    "df.shape"
   ]
  },
  {
   "cell_type": "code",
   "execution_count": 7,
   "metadata": {
    "colab": {
     "base_uri": "https://localhost:8080/"
    },
    "executionInfo": {
     "elapsed": 153,
     "status": "ok",
     "timestamp": 1707867063762,
     "user": {
      "displayName": "Eyob B",
      "userId": "15011973701671782938"
     },
     "user_tz": 300
    },
    "id": "gBIAo3nGzigX",
    "outputId": "2bfd6cb0-cefb-4093-9925-2454e1f4fa96"
   },
   "outputs": [
    {
     "name": "stdout",
     "output_type": "stream",
     "text": [
      "<class 'pandas.core.frame.DataFrame'>\n",
      "RangeIndex: 3185845 entries, 0 to 3185844\n",
      "Data columns (total 6 columns):\n",
      " #   Column      Dtype \n",
      "---  ------      ----- \n",
      " 0   _id         object\n",
      " 1   category    object\n",
      " 2   class       int64 \n",
      " 3   overall     int64 \n",
      " 4   reviewText  object\n",
      " 5   reviewTime  object\n",
      "dtypes: int64(2), object(4)\n",
      "memory usage: 145.8+ MB\n"
     ]
    }
   ],
   "source": [
    "df.info()"
   ]
  },
  {
   "cell_type": "code",
   "execution_count": 8,
   "metadata": {
    "colab": {
     "base_uri": "https://localhost:8080/"
    },
    "executionInfo": {
     "elapsed": 136,
     "status": "ok",
     "timestamp": 1707867065098,
     "user": {
      "displayName": "Eyob B",
      "userId": "15011973701671782938"
     },
     "user_tz": 300
    },
    "id": "dunV5qsB0l1Q",
    "outputId": "ed3d2a36-4f82-45d4-cce7-04763e357407"
   },
   "outputs": [
    {
     "data": {
      "text/plain": [
       "<bound method NDFrame.describe of                               _id                     category  class  \\\n",
       "0        5a1321d5741a2384e802c552  Cell_Phones_and_Accessories      1   \n",
       "1        5a1321d5741a2384e802c557  Cell_Phones_and_Accessories      0   \n",
       "2        5a1321d5741a2384e802c550  Cell_Phones_and_Accessories      1   \n",
       "3        5a1321d5741a2384e802c553  Cell_Phones_and_Accessories      1   \n",
       "4        5a1321d5741a2384e802c559  Cell_Phones_and_Accessories      1   \n",
       "...                           ...                          ...    ...   \n",
       "3185840  5a13226d741a2384e8376caf  Cell_Phones_and_Accessories      1   \n",
       "3185841  5a13226d741a2384e8376cb0  Cell_Phones_and_Accessories      1   \n",
       "3185842  5a13226d741a2384e8376cb1  Cell_Phones_and_Accessories      1   \n",
       "3185843  5a13226d741a2384e8376cb2  Cell_Phones_and_Accessories      1   \n",
       "3185844  5a13226d741a2384e8376cb3  Cell_Phones_and_Accessories      1   \n",
       "\n",
       "         overall                                         reviewText  \\\n",
       "0              5  Best phone case ever . Everywhere I go I get a...   \n",
       "1              1  ITEM NOT SENT from Blue Top Company in Hong Ko...   \n",
       "2              5  Saw this same case at a theme park store for 2...   \n",
       "3              5  case fits perfectly and I always gets complime...   \n",
       "4              4  I got this for my 14 year old sister.  She lov...   \n",
       "...          ...                                                ...   \n",
       "3185840        4  The case is nice. I have no problem with it. T...   \n",
       "3185841        5  I&#8217;ve tried many armbands and I must say ...   \n",
       "3185842        5  Good cables, both cables work and they are com...   \n",
       "3185843        5               Great products. and Great services !   \n",
       "3185844        5  nice, made several purchases for these cables,...   \n",
       "\n",
       "         reviewTime  \n",
       "0        2013-01-13  \n",
       "1        2013-01-30  \n",
       "2        2012-11-22  \n",
       "3        2013-07-18  \n",
       "4        2013-03-20  \n",
       "...             ...  \n",
       "3185840  2014-07-21  \n",
       "3185841  2014-07-22  \n",
       "3185842  2014-07-18  \n",
       "3185843  2014-07-19  \n",
       "3185844  2014-07-21  \n",
       "\n",
       "[3185845 rows x 6 columns]>"
      ]
     },
     "execution_count": 8,
     "metadata": {},
     "output_type": "execute_result"
    }
   ],
   "source": [
    "df.describe"
   ]
  },
  {
   "cell_type": "code",
   "execution_count": 9,
   "metadata": {
    "colab": {
     "base_uri": "https://localhost:8080/"
    },
    "executionInfo": {
     "elapsed": 196,
     "status": "ok",
     "timestamp": 1707867067417,
     "user": {
      "displayName": "Eyob B",
      "userId": "15011973701671782938"
     },
     "user_tz": 300
    },
    "id": "ajkdjBLH1DNE",
    "outputId": "27b62d7f-a747-40f7-a8f6-f964eedd7bb0"
   },
   "outputs": [
    {
     "data": {
      "text/plain": [
       "overall\n",
       "5    1645831\n",
       "4     609155\n",
       "1     419264\n",
       "3     295955\n",
       "2     215640\n",
       "Name: count, dtype: int64"
      ]
     },
     "execution_count": 9,
     "metadata": {},
     "output_type": "execute_result"
    }
   ],
   "source": [
    "df['overall'].value_counts()"
   ]
  },
  {
   "cell_type": "code",
   "execution_count": 10,
   "metadata": {
    "colab": {
     "base_uri": "https://localhost:8080/",
     "height": 694
    },
    "executionInfo": {
     "elapsed": 598,
     "status": "ok",
     "timestamp": 1707867069152,
     "user": {
      "displayName": "Eyob B",
      "userId": "15011973701671782938"
     },
     "user_tz": 300
    },
    "id": "ATder1yX1P00",
    "outputId": "5f7fd284-8052-477e-be4d-b22e8e99d997"
   },
   "outputs": [
    {
     "data": {
      "image/png": "[encoded data removed]",
      "text/plain": [
       "<Figure size 1500x800 with 1 Axes>"
      ]
     },
     "metadata": {},
     "output_type": "display_data"
    }
   ],
   "source": [
    "plt.figure(figsize=(15,8))\n",
    "labels = df['overall'].value_counts().keys()\n",
    "values = df['overall'].value_counts().values\n",
    "explode = (0.1, 0, 0, 0, 0)\n",
    "plt.pie(values, labels=labels, explode=explode, shadow=True, autopct='%1.1f%%')\n",
    "plt.title('Proportion of each rating', fontweight=25, pad=20, color='crimson')\n",
    "plt.show()"
   ]
  },
  {
   "cell_type": "code",
   "execution_count": 11,
   "metadata": {},
   "outputs": [
    {
     "data": {
      "image/png": "[encoded data removed]",
      "text/plain": [
       "<Figure size 1500x800 with 1 Axes>"
      ]
     },
     "metadata": {},
     "output_type": "display_data"
    }
   ],
   "source": [
    "plt.figure(figsize=(15,8))\n",
    "labels = df['class'].value_counts().keys()\n",
    "values = df['class'].value_counts().values\n",
    "explode = (0.1, 0,  )\n",
    "plt.pie(values, labels=labels, explode=explode, shadow=True, autopct='%1.1f%%')\n",
    "plt.title('Proportion of each class', fontweight=25, pad=20, color='crimson')\n",
    "plt.show()"
   ]
  },
  {
   "cell_type": "code",
   "execution_count": 12,
   "metadata": {
    "executionInfo": {
     "elapsed": 186,
     "status": "ok",
     "timestamp": 1707867070816,
     "user": {
      "displayName": "Eyob B",
      "userId": "15011973701671782938"
     },
     "user_tz": 300
    },
    "id": "2LHpBIJc1viI"
   },
   "outputs": [],
   "source": [
    "# Remove punctuation\n",
    "# Remove stopwords\n",
    "# Join the cleaned words into a string\n",
    "def clean_text(text):\n",
    "    nopunc = [w for w in text if w not in string.punctuation]\n",
    "    nopunc = ''.join(nopunc)\n",
    "    return ' '.join([word for word in nopunc.split() if word.lower() not in stopwords.words('english')])"
   ]
  },
  {
   "cell_type": "code",
   "execution_count": 13,
   "metadata": {
    "colab": {
     "base_uri": "https://localhost:8080/"
    },
    "executionInfo": {
     "elapsed": 153,
     "status": "ok",
     "timestamp": 1707867072249,
     "user": {
      "displayName": "Eyob B",
      "userId": "15011973701671782938"
     },
     "user_tz": 300
    },
    "id": "YJ1XYfFC5I84",
    "outputId": "41f90c0e-8eec-45a1-9109-9f3f880e9e47"
   },
   "outputs": [
    {
     "name": "stderr",
     "output_type": "stream",
     "text": [
      "[nltk_data] Downloading package stopwords to\n",
      "[nltk_data]     C:\\Users\\User\\AppData\\Roaming\\nltk_data...\n",
      "[nltk_data]   Package stopwords is already up-to-date!\n",
      "[nltk_data] Downloading package punkt to\n",
      "[nltk_data]     C:\\Users\\User\\AppData\\Roaming\\nltk_data...\n",
      "[nltk_data]   Package punkt is already up-to-date!\n"
     ]
    },
    {
     "data": {
      "text/plain": [
       "True"
      ]
     },
     "execution_count": 13,
     "metadata": {},
     "output_type": "execute_result"
    }
   ],
   "source": [
    "import nltk\n",
    "nltk.download('stopwords')\n",
    "nltk.download('punkt')"
   ]
  },
  {
   "cell_type": "code",
   "execution_count": 14,
   "metadata": {
    "colab": {
     "base_uri": "https://localhost:8080/"
    },
    "executionInfo": {
     "elapsed": 168,
     "status": "ok",
     "timestamp": 1707867073589,
     "user": {
      "displayName": "Eyob B",
      "userId": "15011973701671782938"
     },
     "user_tz": 300
    },
    "id": "hAaiJnKA5Sg4",
    "outputId": "af86ae2a-3631-4bbf-9bad-2961b68eb928"
   },
   "outputs": [
    {
     "data": {
      "text/plain": [
       "('Best phone case ever . Everywhere I go I get a ton of compliments on it. It was in perfect condition as well.',\n",
       " 'Best phone case ever Everywhere go get ton compliments perfect condition well')"
      ]
     },
     "execution_count": 14,
     "metadata": {},
     "output_type": "execute_result"
    }
   ],
   "source": [
    " df['reviewText'][0], clean_text(df['reviewText'][0])"
   ]
  },
  {
   "cell_type": "code",
   "execution_count": 15,
   "metadata": {
    "colab": {
     "base_uri": "https://localhost:8080/"
    },
    "executionInfo": {
     "elapsed": 150,
     "status": "ok",
     "timestamp": 1707867075155,
     "user": {
      "displayName": "Eyob B",
      "userId": "15011973701671782938"
     },
     "user_tz": 300
    },
    "id": "U777IaHr6-iA",
    "outputId": "11644ed2-3129-492d-dbcd-6f5104ccec65"
   },
   "outputs": [
    {
     "data": {
      "text/plain": [
       "0    Best phone case ever Everywhere go get ton com...\n",
       "1    ITEM SENT Blue Top Company Hong Kong two month...\n",
       "2    Saw case theme park store 25 dollars good qual...\n",
       "3    case fits perfectly always gets compliments ha...\n",
       "4    got 14 year old sister loves really really don...\n",
       "Name: reviewText, dtype: object"
      ]
     },
     "execution_count": 15,
     "metadata": {},
     "output_type": "execute_result"
    }
   ],
   "source": [
    "df['reviewText'].head().apply(clean_text)"
   ]
  },
  {
   "cell_type": "code",
   "execution_count": 16,
   "metadata": {
    "colab": {
     "base_uri": "https://localhost:8080/",
     "height": 35
    },
    "executionInfo": {
     "elapsed": 169,
     "status": "ok",
     "timestamp": 1707859968322,
     "user": {
      "displayName": "Eyob B",
      "userId": "15011973701671782938"
     },
     "user_tz": 300
    },
    "id": "RaOJLHkw7RWb",
    "outputId": "ff404e4a-0e05-403c-c75a-6898549334c1",
    "scrolled": false
   },
   "outputs": [],
   "source": [
    "#a smaller, random sample (1% of the original) from the DataFrame \n",
    "df_sampled = df.sample(frac=0.01, random_state=42) "
   ]
  },
  {
   "cell_type": "code",
   "execution_count": 17,
   "metadata": {},
   "outputs": [
    {
     "data": {
      "text/plain": [
       "(31858, 6)"
      ]
     },
     "execution_count": 17,
     "metadata": {},
     "output_type": "execute_result"
    }
   ],
   "source": [
    "df_sampled.shape"
   ]
  },
  {
   "cell_type": "code",
   "execution_count": 18,
   "metadata": {
    "scrolled": true
   },
   "outputs": [
    {
     "data": {
      "image/png": "[encoded data removed]",
      "text/plain": [
       "<Figure size 1500x800 with 1 Axes>"
      ]
     },
     "metadata": {},
     "output_type": "display_data"
    }
   ],
   "source": [
    "plt.figure(figsize=(15,8))\n",
    "labels = df_sampled['overall'].value_counts().keys()\n",
    "values = df_sampled['overall'].value_counts().values\n",
    "explode = (0.1, 0, 0, 0, 0)\n",
    "plt.pie(values, labels=labels, explode=explode, shadow=True, autopct='%1.1f%%')\n",
    "plt.title('Proportion of each rating', fontweight=25, pad=20, color='crimson')\n",
    "plt.show()"
   ]
  },
  {
   "cell_type": "code",
   "execution_count": 19,
   "metadata": {},
   "outputs": [
    {
     "data": {
      "image/png": "[encoded data removed]",
      "text/plain": [
       "<Figure size 1500x800 with 1 Axes>"
      ]
     },
     "metadata": {},
     "output_type": "display_data"
    }
   ],
   "source": [
    "plt.figure(figsize=(15,8))\n",
    "labels = df_sampled['class'].value_counts().keys()\n",
    "values = df_sampled['class'].value_counts().values\n",
    "explode = (0.1, 0,  )\n",
    "plt.pie(values, labels=labels, explode=explode, shadow=True, autopct='%1.1f%%')\n",
    "plt.title('Proportion of each class', fontweight=25, pad=20, color='crimson')\n",
    "plt.show()"
   ]
  },
  {
   "cell_type": "code",
   "execution_count": 20,
   "metadata": {
    "executionInfo": {
     "elapsed": 143,
     "status": "ok",
     "timestamp": 1707867078758,
     "user": {
      "displayName": "Eyob B",
      "userId": "15011973701671782938"
     },
     "user_tz": 300
    },
    "id": "77owMeS0WKSi"
   },
   "outputs": [],
   "source": [
    "#Tokenize the text into individual words.\n",
    "#Exclude words that are entirely numeric\n",
    "#Remove stopwords and non-alphabetic characters\n",
    "\n",
    "def preprocess(text):\n",
    "    return ' '.join([word for word in word_tokenize(text) if word not in stopwords.words('english') and not word.isdigit() and word.isalpha])"
   ]
  },
  {
   "cell_type": "code",
   "execution_count": 21,
   "metadata": {},
   "outputs": [],
   "source": [
    "df_sampled['reviewText'][:10000] = df['reviewText'][:10000].apply(preprocess)"
   ]
  },
  {
   "cell_type": "code",
   "execution_count": 22,
   "metadata": {
    "id": "obgwExMjTmbf"
   },
   "outputs": [],
   "source": [
    "df_sampled['reviewText'][10001:20000] = df['reviewText'][10001:20000].apply(preprocess)"
   ]
  },
  {
   "cell_type": "code",
   "execution_count": 23,
   "metadata": {
    "id": "LQfQt07QTmTr"
   },
   "outputs": [],
   "source": [
    "df_sampled['reviewText'][20001:31858] = df['reviewText'][20001:31858].apply(preprocess)"
   ]
  },
  {
   "cell_type": "code",
   "execution_count": 24,
   "metadata": {},
   "outputs": [
    {
     "data": {
      "text/plain": [
       "1617395    Best phone case ever . Everywhere I go I get t...\n",
       "3089194    ITEM NOT SENT Blue Top Company Hong Kong 's tw...\n",
       "1048159    Saw case theme park store dollars . This good ...\n",
       "1322794    case fits perfectly I always gets compliments ...\n",
       "215011     I got year old sister . She loves . I really r...\n",
       "                                 ...                        \n",
       "2368010    I tried practically every ear piece since I st...\n",
       "3052903    The Plantronics Voyager good bluetooth headset...\n",
       "1602610    I 've really got nothing complain , probably I...\n",
       "1283644    Very comfortable , beautifully built , round b...\n",
       "2693993    I picked unit others said 'made ' LG VX . The ...\n",
       "Name: reviewText, Length: 31858, dtype: object"
      ]
     },
     "execution_count": 24,
     "metadata": {},
     "output_type": "execute_result"
    }
   ],
   "source": [
    "df_sampled['reviewText']"
   ]
  },
  {
   "cell_type": "code",
   "execution_count": 25,
   "metadata": {
    "colab": {
     "base_uri": "https://localhost:8080/"
    },
    "executionInfo": {
     "elapsed": 137,
     "status": "ok",
     "timestamp": 1707867083401,
     "user": {
      "displayName": "Eyob B",
      "userId": "15011973701671782938"
     },
     "user_tz": 300
    },
    "id": "vriu7YbgnHgM",
    "outputId": "ef59e5d9-feb4-406d-c52c-264919b1508f"
   },
   "outputs": [],
   "source": [
    " # Convert the 'reviewText' column to lowercase\n",
    "df_sampled['reviewText'] = df_sampled['reviewText'].str.lower()"
   ]
  },
  {
   "cell_type": "code",
   "execution_count": 26,
   "metadata": {},
   "outputs": [
    {
     "data": {
      "text/plain": [
       "1617395    best phone case ever . everywhere i go i get t...\n",
       "3089194    item not sent blue top company hong kong 's tw...\n",
       "1048159    saw case theme park store dollars . this good ...\n",
       "1322794    case fits perfectly i always gets compliments ...\n",
       "215011     i got year old sister . she loves . i really r...\n",
       "                                 ...                        \n",
       "2368010    i tried practically every ear piece since i st...\n",
       "3052903    the plantronics voyager good bluetooth headset...\n",
       "1602610    i 've really got nothing complain , probably i...\n",
       "1283644    very comfortable , beautifully built , round b...\n",
       "2693993    i picked unit others said 'made ' lg vx . the ...\n",
       "Name: reviewText, Length: 31858, dtype: object"
      ]
     },
     "execution_count": 26,
     "metadata": {},
     "output_type": "execute_result"
    }
   ],
   "source": [
    "df_sampled['reviewText']"
   ]
  },
  {
   "cell_type": "code",
   "execution_count": 27,
   "metadata": {
    "executionInfo": {
     "elapsed": 136,
     "status": "ok",
     "timestamp": 1707867085509,
     "user": {
      "displayName": "Eyob B",
      "userId": "15011973701671782938"
     },
     "user_tz": 300
    },
    "id": "DAbnO9keoFS9"
   },
   "outputs": [],
   "source": [
    "# Define a function to stem words in a given text\n",
    "# Apply the stemming function to the 'reviewText' column in df_sampled\n",
    "# reduces words to their root or base form.\n",
    "\n",
    "from nltk.stem import PorterStemmer\n",
    "stemmer = PorterStemmer()\n",
    "\n",
    "def stem_words(text):\n",
    "    return ' '.join([stemmer.stem(word) for word in text.split()])\n",
    "\n",
    "df_sampled['reviewText'] = df_sampled['reviewText'].apply(lambda x: stem_words(x))"
   ]
  },
  {
   "cell_type": "code",
   "execution_count": 28,
   "metadata": {},
   "outputs": [],
   "source": [
    "# Create a lemmatizer object from NLTK's WordNetLemmatizer\n",
    "# Define a function to lemmatize words in a given text\n",
    "# Apply the lemmatization function to the 'reviewText' column in df_sampled\n",
    "\n",
    "lemmatizer = WordNetLemmatizer()\n",
    "def lemmatize_words(text):\n",
    "  return ' '.join([lemmatizer.lemmatize(word) for word in text.split()])\n",
    "df_sampled['reviewText'] = df_sampled['reviewText'].apply(lambda text: lemmatize_words(text))"
   ]
  },
  {
   "cell_type": "code",
   "execution_count": 29,
   "metadata": {
    "executionInfo": {
     "elapsed": 169,
     "status": "ok",
     "timestamp": 1707867089690,
     "user": {
      "displayName": "Eyob B",
      "userId": "15011973701671782938"
     },
     "user_tz": 300
    },
    "id": "y9KNhVPCoIvO"
   },
   "outputs": [
    {
     "data": {
      "text/plain": [
       "<bound method NDFrame.head of 1617395    best phone case ever . everywher i go i get to...\n",
       "3089194    item not sent blue top compani hong kong 's tw...\n",
       "1048159    saw case theme park store dollar . thi good qu...\n",
       "1322794    case fit perfectli i alway get compliment n't ...\n",
       "215011     i got year old sister . she love . i realli re...\n",
       "                                 ...                        \n",
       "2368010    i tri practic everi ear piec sinc i start use ...\n",
       "3052903    the plantron voyag good bluetooth headset curr...\n",
       "1602610    i 've realli got noth complain , probabl i cam...\n",
       "1283644    veri comfort , beauti built , round beauti car...\n",
       "2693993    i pick unit other said 'made ' lg vx . the lg ...\n",
       "Name: reviewText, Length: 31858, dtype: object>"
      ]
     },
     "execution_count": 29,
     "metadata": {},
     "output_type": "execute_result"
    }
   ],
   "source": [
    "df_sampled['reviewText'].head"
   ]
  },
  {
   "cell_type": "code",
   "execution_count": null,
   "metadata": {
    "id": "lmPMIi5FzXXQ"
   },
   "outputs": [],
   "source": [
    " "
   ]
  },
  {
   "cell_type": "markdown",
   "metadata": {},
   "source": [
    "Second Page. Feature Enginerring"
   ]
  },
  {
   "cell_type": "code",
   "execution_count": 30,
   "metadata": {
    "colab": {
     "base_uri": "https://localhost:8080/",
     "height": 321
    },
    "executionInfo": {
     "elapsed": 12921,
     "status": "ok",
     "timestamp": 1707866967906,
     "user": {
      "displayName": "Eyob B",
      "userId": "15011973701671782938"
     },
     "user_tz": 300
    },
    "id": "N3ho26rxzSJ0",
    "outputId": "dcb4dc6a-b527-424a-d368-fe7e241bb9fb"
   },
   "outputs": [],
   "source": [
    "#Creating a New Column 'length'\n",
    "#the length of the corresponding 'reviewText' is calculated using the len function\n",
    "df_sampled['length'] = df_sampled['reviewText'].apply(len)"
   ]
  },
  {
   "cell_type": "code",
   "execution_count": 31,
   "metadata": {
    "executionInfo": {
     "elapsed": 5,
     "status": "ok",
     "timestamp": 1707866967907,
     "user": {
      "displayName": "Eyob B",
      "userId": "15011973701671782938"
     },
     "user_tz": 300
    },
    "id": "_gBJ6WFMzTZD"
   },
   "outputs": [
    {
     "data": {
      "text/plain": [
       "<bound method DataFrame.info of                               _id                     category  class  \\\n",
       "1617395  5a132224741a2384e81d941a  Cell_Phones_and_Accessories      1   \n",
       "3089194  5a132269741a2384e835d60b  Cell_Phones_and_Accessories      1   \n",
       "1048159  5a132209741a2384e8142d5f  Cell_Phones_and_Accessories      1   \n",
       "1322794  5a132216741a2384e818b740  Cell_Phones_and_Accessories      1   \n",
       "215011   5a1321e0741a2384e80658c2  Cell_Phones_and_Accessories      1   \n",
       "...                           ...                          ...    ...   \n",
       "2368010  5a132248741a2384e829f3bf  Cell_Phones_and_Accessories      1   \n",
       "3052903  5a132267741a2384e8353cbc  Cell_Phones_and_Accessories      1   \n",
       "1602610  5a132224741a2384e81d559b  Cell_Phones_and_Accessories      0   \n",
       "1283644  5a132214741a2384e8181279  Cell_Phones_and_Accessories      1   \n",
       "2693993  5a132257741a2384e82f51db  Cell_Phones_and_Accessories      1   \n",
       "\n",
       "         overall                                         reviewText  \\\n",
       "1617395        5  best phone case ever . everywher i go i get to...   \n",
       "3089194        4  item not sent blue top compani hong kong 's tw...   \n",
       "1048159        4  saw case theme park store dollar . thi good qu...   \n",
       "1322794        5  case fit perfectli i alway get compliment n't ...   \n",
       "215011         4  i got year old sister . she love . i realli re...   \n",
       "...          ...                                                ...   \n",
       "2368010        5  i tri practic everi ear piec sinc i start use ...   \n",
       "3052903        5  the plantron voyag good bluetooth headset curr...   \n",
       "1602610        2  i 've realli got noth complain , probabl i cam...   \n",
       "1283644        5  veri comfort , beauti built , round beauti car...   \n",
       "2693993        5  i pick unit other said 'made ' lg vx . the lg ...   \n",
       "\n",
       "         reviewTime  length  \n",
       "1617395  2014-01-10      85  \n",
       "3089194  2014-03-11      99  \n",
       "1048159  2012-12-10      65  \n",
       "1322794  2013-04-05      77  \n",
       "215011   2014-03-23      71  \n",
       "...             ...     ...  \n",
       "2368010  2014-06-04     520  \n",
       "3052903  2014-01-16    1405  \n",
       "1602610  2013-08-05    1204  \n",
       "1283644  2013-07-15     181  \n",
       "2693993  2013-12-19     583  \n",
       "\n",
       "[31858 rows x 7 columns]>"
      ]
     },
     "execution_count": 31,
     "metadata": {},
     "output_type": "execute_result"
    }
   ],
   "source": [
    "df_sampled.info"
   ]
  },
  {
   "cell_type": "code",
   "execution_count": 32,
   "metadata": {},
   "outputs": [
    {
     "data": {
      "image/png": "[encoded data removed]",
      "text/plain": [
       "<Figure size 640x480 with 1 Axes>"
      ]
     },
     "metadata": {},
     "output_type": "display_data"
    }
   ],
   "source": [
    "plt.hist(df_sampled['length'], bins=50)\n",
    "plt.show()"
   ]
  },
  {
   "cell_type": "code",
   "execution_count": 33,
   "metadata": {
    "executionInfo": {
     "elapsed": 2418,
     "status": "ok",
     "timestamp": 1707858409434,
     "user": {
      "displayName": "Eyob B",
      "userId": "15011973701671782938"
     },
     "user_tz": 300
    },
    "id": "bc7O1mQ9Rltk"
   },
   "outputs": [
    {
     "data": {
      "text/html": [
       "<div>\n",
       "<style scoped>\n",
       "    .dataframe tbody tr th:only-of-type {\n",
       "        vertical-align: middle;\n",
       "    }\n",
       "\n",
       "    .dataframe tbody tr th {\n",
       "        vertical-align: top;\n",
       "    }\n",
       "\n",
       "    .dataframe thead tr th {\n",
       "        text-align: left;\n",
       "    }\n",
       "\n",
       "    .dataframe thead tr:last-of-type th {\n",
       "        text-align: right;\n",
       "    }\n",
       "</style>\n",
       "<table border=\"1\" class=\"dataframe\">\n",
       "  <thead>\n",
       "    <tr>\n",
       "      <th></th>\n",
       "      <th colspan=\"8\" halign=\"left\">overall</th>\n",
       "      <th colspan=\"8\" halign=\"left\">length</th>\n",
       "    </tr>\n",
       "    <tr>\n",
       "      <th></th>\n",
       "      <th>count</th>\n",
       "      <th>mean</th>\n",
       "      <th>std</th>\n",
       "      <th>min</th>\n",
       "      <th>25%</th>\n",
       "      <th>50%</th>\n",
       "      <th>75%</th>\n",
       "      <th>max</th>\n",
       "      <th>count</th>\n",
       "      <th>mean</th>\n",
       "      <th>std</th>\n",
       "      <th>min</th>\n",
       "      <th>25%</th>\n",
       "      <th>50%</th>\n",
       "      <th>75%</th>\n",
       "      <th>max</th>\n",
       "    </tr>\n",
       "    <tr>\n",
       "      <th>class</th>\n",
       "      <th></th>\n",
       "      <th></th>\n",
       "      <th></th>\n",
       "      <th></th>\n",
       "      <th></th>\n",
       "      <th></th>\n",
       "      <th></th>\n",
       "      <th></th>\n",
       "      <th></th>\n",
       "      <th></th>\n",
       "      <th></th>\n",
       "      <th></th>\n",
       "      <th></th>\n",
       "      <th></th>\n",
       "      <th></th>\n",
       "      <th></th>\n",
       "    </tr>\n",
       "  </thead>\n",
       "  <tbody>\n",
       "    <tr>\n",
       "      <th>0</th>\n",
       "      <td>9197.0</td>\n",
       "      <td>1.864412</td>\n",
       "      <td>0.868966</td>\n",
       "      <td>1.0</td>\n",
       "      <td>1.0</td>\n",
       "      <td>2.0</td>\n",
       "      <td>3.0</td>\n",
       "      <td>3.0</td>\n",
       "      <td>9197.0</td>\n",
       "      <td>290.910949</td>\n",
       "      <td>373.536764</td>\n",
       "      <td>3.0</td>\n",
       "      <td>96.0</td>\n",
       "      <td>169.0</td>\n",
       "      <td>336.0</td>\n",
       "      <td>6449.0</td>\n",
       "    </tr>\n",
       "    <tr>\n",
       "      <th>1</th>\n",
       "      <td>22661.0</td>\n",
       "      <td>4.734875</td>\n",
       "      <td>0.441410</td>\n",
       "      <td>4.0</td>\n",
       "      <td>4.0</td>\n",
       "      <td>5.0</td>\n",
       "      <td>5.0</td>\n",
       "      <td>5.0</td>\n",
       "      <td>22661.0</td>\n",
       "      <td>287.297339</td>\n",
       "      <td>372.559770</td>\n",
       "      <td>2.0</td>\n",
       "      <td>96.0</td>\n",
       "      <td>168.0</td>\n",
       "      <td>330.0</td>\n",
       "      <td>11856.0</td>\n",
       "    </tr>\n",
       "  </tbody>\n",
       "</table>\n",
       "</div>"
      ],
      "text/plain": [
       "       overall                                                length  \\\n",
       "         count      mean       std  min  25%  50%  75%  max    count   \n",
       "class                                                                  \n",
       "0       9197.0  1.864412  0.868966  1.0  1.0  2.0  3.0  3.0   9197.0   \n",
       "1      22661.0  4.734875  0.441410  4.0  4.0  5.0  5.0  5.0  22661.0   \n",
       "\n",
       "                                                                 \n",
       "             mean         std  min   25%    50%    75%      max  \n",
       "class                                                            \n",
       "0      290.910949  373.536764  3.0  96.0  169.0  336.0   6449.0  \n",
       "1      287.297339  372.559770  2.0  96.0  168.0  330.0  11856.0  "
      ]
     },
     "execution_count": 33,
     "metadata": {},
     "output_type": "execute_result"
    }
   ],
   "source": [
    "#values in the 'class' column and then calculating descriptive statistics for each group\n",
    "df_sampled.groupby('class').describe()"
   ]
  },
  {
   "cell_type": "code",
   "execution_count": 34,
   "metadata": {
    "id": "BtHqwV6GpC0F"
   },
   "outputs": [
    {
     "data": {
      "text/plain": [
       "array([<Axes: title={'center': '0'}>, <Axes: title={'center': '1'}>],\n",
       "      dtype=object)"
      ]
     },
     "execution_count": 34,
     "metadata": {},
     "output_type": "execute_result"
    },
    {
     "data": {
      "image/png": "[encoded data removed]",
      "text/plain": [
       "<Figure size 1200x500 with 2 Axes>"
      ]
     },
     "metadata": {},
     "output_type": "display_data"
    }
   ],
   "source": [
    "#histograms to visually explore and compare the distribution of data lengths ('length' column) for different classes in the DataFrame\n",
    "df_sampled.hist(column='length', by='class', bins=50, color='blue', figsize=(12,5))"
   ]
  },
  {
   "cell_type": "code",
   "execution_count": 35,
   "metadata": {},
   "outputs": [
    {
     "data": {
      "text/plain": [
       "\"spoiler alert : stupidli long review . i like provid much detail possibl i write review , & # ; sort thing i look review . buy thing onlin retail great , prevent u get hands-on inform & # ; alreadi shell money . detail review best way combat disappoint buyer & # ; remors . so either get popcorn and/or coffe , skip end , skip review entir & # ; serious though , & # ; long review . prepar yourself.thi headset close ideal i 'm probabl ever go get , least headset implant subderm behind ear , music commun beam directli brain someth . it great sound , featur , fit , look . there downsid i 'll get way first , i get back gush thing . first , i feel earbud cord mayb .5 .75 inch short . i wear mainli i & # ; work , underneath collar polo shirt . the cord therefor dip edg collar , make trip back ear . it 's fine i 'm look straight ahead , i turn head much tug 'outsid ' ear ( i look left , tug right ear vice versa ) . i 've gotten around somewhat remov littl silicon o-r intend manag earbud cord . it releas littl cord length tug le notic , still . the cord bit short tast even wear t-shirt , & # ; bad . the next downsid headset support connect two devic . i get & # ; one devic time & # ; thing improv handoff music call , sinc easier servic provid one phone/devic , i still wish i could listen person phone 's music collect abl take call work phone . other headset like soni mw600 handl ea . i clarifi bud pair multipl devic , connect one devic time . current , i & # ; got pair android tablet phone , ipod , work iphon . i switch one anoth manual disconnect one connect anoth ( via devic & # ; set ) , i & # ; go pair process everi time i want switch & # ; pair bud difficult , would get annoy real quick.now i 've got way , i talk stuff i like bud , pretti much everyth . first , let assur headset doe support apt-x bluetooth connect avail . apt-x bluetooth audio codec design provid sound qualiti equal wire headset . other bluetooth audio connect compress audio , make sound somewhat muddl , well , bad . thi happen regardless qualiti sourc audio file . apt-x support commonli avail recent samsung ( includ galaxi s3 , s4 , s5 ) htc phone ( includ one m8 ) , other well . if & # ; interest , ridicul complet .xlsx spreadsheet avail jessebandersen dot com , simpl googl search also yield result . i found jess & # ; page search & # ; aptx enabl devic & # ; & # ; first result list . sadli apt-x support appl yet , know 'll come proprietari altern work headset ( bought beat dre last week , get readi ) . i almost pas bud apt-x n't list anywher spec review i saw amazon . i go motorola 's site look user manual find . i origin go go lg tone headset line ( also support apt-x ) , n't like & # ; flat loop & # ; design & # ; look like great fit & # ; robot . in opinion bud design better fit actual human : front control stalk bend gentli , follow curv neck/shoulders/collarbon . the major headset ( includ small weight batteri pack ) rest base neck , control stalk rest comfort near collarbon . the lg tone ca n't time sinc form flat circl : stalk & # ; angl rel neck band , carri weight batteri & # ; fall collarbon center section halfway back neck ( newer one curv like bud , $ expens ) . i & # ; wear bud headset right , hardli feel & # ; great improv tradit & # ; earhugg & # ; bluetooth headset . while i & # ; talk fit , i probabl mention i wear 17.5 & # ; collar , & # ; stand thing touch neck throat . the bud fit quit comfort , provid slightest reassur touch front side neck . they widest gap left right control stalk measur hair inches.th bud tidi control arrang easi navig . play/pause/answer/end/track-skip command ( well eq set voic dial activ ) handl rocker switch left , volum adjust handl rocker switch right . the microphon underneath rocker switch left , power switch underneath bodi ( center section ) headset , next charg port . play/pause/answer/end done singl press forward half left rocker switch , littl bit textur identification/grip purpos . you activ voic dial ( like siri samsung & # ; s-voic googl voic search ) long-press button music play . track-skip forward done singl press back half switch , track-skip back done doubl press . i kind wish skip forward/back handl separ button , & # ; easi enough get use . one thing note mic stalk answer/end button : feel around end call button , person end go hear all of it sinc microphon right beneath . lot loud rustl nois . oop . not enough list full-on downsid , still ... kind annoy . they could place mic right , come think whole lot le & # ; busi & # ; sinc mostli volum control function . volum achiev press forward half right rocker switch , volum press back half . you mute activ phonecal press portion volum rocker , reject incom call long-press either one volum button . eq mode chang long-press & # ; play/paus & # ; switch left . there eq mode , indic one , document effect suppos . there voic notif & # ; eq mode chang ! & # ; & # ; . you & # ; figur exactli mean . my best guess mode flat , trebl boost , bass boost . a gener & # ; audiophil & # ; rule , flat eq respons best sinc & # ; meddl sound balanc hear artist intend . i bare tell eq mode bass boost , & # ; tell differ two . and i & # ; tell differ , i guess & # ; realli matter . i & # ; recommend switch mode listen gener type music , get eq set like , never chang . a obviou pictur literatur , earbud held magnet end control stalk use . the magnet pretti strong , earbud yet bounc loo . in fact , strong i remov earbud ear & # ; attach end stalk , i & # ; eventu find connect point i & # ; move around . needle say , & # ; get part close credit cards.a far sound qualiti goe , i & # ; realli impress . the earbud said & # ; premium hd speaker & # ; , whatev truli mean , sound great apt-x support realli help shine . i point bud still sound great non-apt-x devic like appl gadget , certainli sound good bluetooth headset & # ; support . a long earbud seat properli ( critic in-ear earbud ) bass respons nice solid , everyth sort sparkl . not say & # ; sparkl & # ; ad way , music fine detail & # ; hear lot . speak earbud seat properli , document talk bit & # ; micro-adjust & # ; , translat stem earbud pivot certain amount around central axi sort narrow cone shape , angl stem rel earbud & # ; bodi chang bit fit differ peopl & # ; ear structur . the earbud seem stay fairli well seat unless i get realli sweati . speak sweat , i also note bud label & # ; sweat proof & # ; , make worri littl bit . i sweat easili , lot bike walk , work somewhat physic . hope becom issu . there littl rubber plug partial remov access charg port , make sure place back secur get sweati . anyway , back audio qualiti : one import thing note , true high qualiti sound deliveri devic , final output depend highli good sourc materi . you know low qualiti sourc like 128kbp .mp3 file even track pandora stream servic & # ; best , hear everi littl bit bad . other headset may mask & # ; also mask fine detail better qualiti file , way & # ; actual good thing . call qualiti end line realli good well , i & # ; never anyon ask & # ; are use bluetooth ? & # ; i usual get i use headset . in fact , i one person stop mid-convers ask & # ; didn & # ; say go put bluetooth headset ? & # ; , almost & # ; believ i said i alreadi . one last thing audio qualiti & # ; listen music via app preamp gain , may want reduc gain level zero . i use poweramp galaxi s4 dismay first hear ton distort , especi low end . i almost return headset i could get rid . i eventu found preamp gain ( poweramp & # ; eq set page ) set % capac , turn elimin distort complet . you get rid distort % , risk ? i keep zero sure . do also reduc overal volum , sinc thing get plenti loud , i & # ; mind all.usu i hate look bluetooth headset : obnoxi blink blue light giant blob techno-crud clamp peopl & # ; ear make look like extra bad & # ; sci-fi movi . i say motorola bud practic disappear , especi wear collar polo shirt . they indic light , nestl power switch charg port , & # ; visibl & # ; worn . i say , first i & # ; plea fact even black headset white bit ( undersid flat cord , silicon ear piec , forward/insid halv earbud shell ) . i chang mind much come enjoy subtl high-contrast design . it look nice modern without look like & # ; tri hard . a i said , practic disappear polo collar & # ; see white silicon ear piec touch white cord . when & # ; got earbud insert , white flash undersid cord help make littl obviou other & # ; either listen music talk phone . i say & # ; littl & # ; peopl still give weird look walk room i & # ; mid convers . i make univers & # ; i & # ; lunat , i & # ; phone & # ; gestur folk , observ one figur easili . i see come blue , make even sad & # ; come red . you see , i sick . a sick yet defin ( even acknowledg ) scienc , i overwhelm love ( , like wife , would say & # ; unhealthi ob & # ; ) black thing red trim , red thing black trim , & # ; well , get idea . if came red , i & # ; sell pint blood ( least black/whit bud ) get set . mayb one day.thos main point i want talk . there thing & # ; realli fit review elsewher , i & # ; stick . the spec say wireless rang foot , & # ; class bluetooth devic & # ; , phone probabl & # ; t. realist use still around foot , minor barrier like wall door . i & # ; even know find true class bluetooth devic , get 150ft rang spec head . batteri life seem pretti good , although i tri charg headset everi night , i & # ; gone far full workday mix usag without run batteri . they & # ; rate & # ; hour & # ; playback , & # ; anyon & # ; guess actual mean . i talk silicon earpiec earlier , forgot mention come size & # ; small , medium , larg . the bud come small one instal alreadi , i found medium best . the earpiec earbud ( wire wireless ) % interchang , slightli differ . the post ear stem slightli smaller diamet standard , earpiec set bit loo . swap earpiec bud would result sound leakag result poorer sound qualiti bass respons , also put much higher risk one earpiec come stem stick ear . trust , & # ; want . stick size provid find one best suit . use biggest size stand , good seal critic good sound qualiti . anoth thing i mention briefli bud & # ; voic notif . the bud set pre-program voic notif built & # ; hear turn headset , chang eq set , mayb command . when power , headset play short music tune chipper femal voic say & # ; welcom motorola bud ! & # ; when connect phone mp3 player , voic say & # ; devic connect ! & # ; the voic & # ; bad , took get use . when receiv phone call , play anoth tune instead mirror phone & # ; rington . i think & # ; riff first note & # ; ride valkyri & # ; i could wrong . the bud also play soft & # ; bloop & # ; nois everi time play paus adjust volum . other & # ; bloop & # ; nois , realli indic whether unit even power . i mention headset lose connect automat power minut save batteri . if pick headset & # ; know power state & # ; , hit volum button listen bloop . the headset yet drop bluetooth connect , first headset i & # ; own kind impress . the last thing i want talk ( yeah , i made list ) thin rubber strip run undersid control stalk , i think serv purpos cover track wire run . a small section one strip pop week would seat back . i eventu decid probabl held place sort adhes , sinc i could get & # ; pop back & # ; , i place tiniest dab krazi glue , wipe excess , held place dri . thi month ago , pop back yet.so & # ; absolut everi observ motorola bud i & # ; made sinc i got . if & # ; read , i salut . i probabl owe minut life back . sorri . now summari , i promis start : for tl ; dr crowd , i wholli approv headset . it & # ; headset i & # ; wait quit time , & # ; final . featur , fit , sound , look pretti much perfect , & # ; hard come list seriou disadvantag . a i write , & # ; avail $ , quit steal . the nearest competitor lg hbs-800 , normal goe $ . check & # ; i & # ; think & # ; disappoint .\""
      ]
     },
     "execution_count": 35,
     "metadata": {},
     "output_type": "execute_result"
    }
   ],
   "source": [
    "#retrieve and display the text of the review with the longest length in the DataFrame\n",
    "df_sampled[['reviewText', 'length']].sort_values(by='length', ascending=False).head().iloc[0]['reviewText']\n"
   ]
  },
  {
   "cell_type": "code",
   "execution_count": 36,
   "metadata": {},
   "outputs": [
    {
     "data": {
      "text/plain": [
       "count    31858.000000\n",
       "mean       288.340542\n",
       "std        372.839810\n",
       "min          2.000000\n",
       "25%         96.000000\n",
       "50%        168.000000\n",
       "75%        331.000000\n",
       "max      11856.000000\n",
       "Name: length, dtype: float64"
      ]
     },
     "execution_count": 36,
     "metadata": {},
     "output_type": "execute_result"
    }
   ],
   "source": [
    "df_sampled.length.describe()"
   ]
  },
  {
   "cell_type": "code",
   "execution_count": 37,
   "metadata": {},
   "outputs": [],
   "source": [
    "#prepare text data for analysis or machine learning\n",
    "#filter out irrelevant information such as punctuation and common words.\n",
    "def text_process(review):\n",
    "    nopunc = [char for char in review if char not in string.punctuation]\n",
    "    nopunc = ''.join(nopunc)\n",
    "    return [word for word in nopunc.split() if word.lower() not in stopwords.words('english')]"
   ]
  },
  {
   "cell_type": "code",
   "execution_count": 38,
   "metadata": {},
   "outputs": [
    {
     "data": {
      "text/html": [
       "<style>#sk-container-id-1 {color: black;}#sk-container-id-1 pre{padding: 0;}#sk-container-id-1 div.sk-toggleable {background-color: white;}#sk-container-id-1 label.sk-toggleable__label {cursor: pointer;display: block;width: 100%;margin-bottom: 0;padding: 0.3em;box-sizing: border-box;text-align: center;}#sk-container-id-1 label.sk-toggleable__label-arrow:before {content: \"▸\";float: left;margin-right: 0.25em;color: #696969;}#sk-container-id-1 label.sk-toggleable__label-arrow:hover:before {color: black;}#sk-container-id-1 div.sk-estimator:hover label.sk-toggleable__label-arrow:before {color: black;}#sk-container-id-1 div.sk-toggleable__content {max-height: 0;max-width: 0;overflow: hidden;text-align: left;background-color: #f0f8ff;}#sk-container-id-1 div.sk-toggleable__content pre {margin: 0.2em;color: black;border-radius: 0.25em;background-color: #f0f8ff;}#sk-container-id-1 input.sk-toggleable__control:checked~div.sk-toggleable__content {max-height: 200px;max-width: 100%;overflow: auto;}#sk-container-id-1 input.sk-toggleable__control:checked~label.sk-toggleable__label-arrow:before {content: \"▾\";}#sk-container-id-1 div.sk-estimator input.sk-toggleable__control:checked~label.sk-toggleable__label {background-color: #d4ebff;}#sk-container-id-1 div.sk-label input.sk-toggleable__control:checked~label.sk-toggleable__label {background-color: #d4ebff;}#sk-container-id-1 input.sk-hidden--visually {border: 0;clip: rect(1px 1px 1px 1px);clip: rect(1px, 1px, 1px, 1px);height: 1px;margin: -1px;overflow: hidden;padding: 0;position: absolute;width: 1px;}#sk-container-id-1 div.sk-estimator {font-family: monospace;background-color: #f0f8ff;border: 1px dotted black;border-radius: 0.25em;box-sizing: border-box;margin-bottom: 0.5em;}#sk-container-id-1 div.sk-estimator:hover {background-color: #d4ebff;}#sk-container-id-1 div.sk-parallel-item::after {content: \"\";width: 100%;border-bottom: 1px solid gray;flex-grow: 1;}#sk-container-id-1 div.sk-label:hover label.sk-toggleable__label {background-color: #d4ebff;}#sk-container-id-1 div.sk-serial::before {content: \"\";position: absolute;border-left: 1px solid gray;box-sizing: border-box;top: 0;bottom: 0;left: 50%;z-index: 0;}#sk-container-id-1 div.sk-serial {display: flex;flex-direction: column;align-items: center;background-color: white;padding-right: 0.2em;padding-left: 0.2em;position: relative;}#sk-container-id-1 div.sk-item {position: relative;z-index: 1;}#sk-container-id-1 div.sk-parallel {display: flex;align-items: stretch;justify-content: center;background-color: white;position: relative;}#sk-container-id-1 div.sk-item::before, #sk-container-id-1 div.sk-parallel-item::before {content: \"\";position: absolute;border-left: 1px solid gray;box-sizing: border-box;top: 0;bottom: 0;left: 50%;z-index: -1;}#sk-container-id-1 div.sk-parallel-item {display: flex;flex-direction: column;z-index: 1;position: relative;background-color: white;}#sk-container-id-1 div.sk-parallel-item:first-child::after {align-self: flex-end;width: 50%;}#sk-container-id-1 div.sk-parallel-item:last-child::after {align-self: flex-start;width: 50%;}#sk-container-id-1 div.sk-parallel-item:only-child::after {width: 0;}#sk-container-id-1 div.sk-dashed-wrapped {border: 1px dashed gray;margin: 0 0.4em 0.5em 0.4em;box-sizing: border-box;padding-bottom: 0.4em;background-color: white;}#sk-container-id-1 div.sk-label label {font-family: monospace;font-weight: bold;display: inline-block;line-height: 1.2em;}#sk-container-id-1 div.sk-label-container {text-align: center;}#sk-container-id-1 div.sk-container {/* jupyter's `normalize.less` sets `[hidden] { display: none; }` but bootstrap.min.css set `[hidden] { display: none !important; }` so we also need the `!important` here to be able to override the default hidden behavior on the sphinx rendered scikit-learn.org. See: https://github.com/scikit-learn/scikit-learn/issues/21755 */display: inline-block !important;position: relative;}#sk-container-id-1 div.sk-text-repr-fallback {display: none;}</style><div id=\"sk-container-id-1\" class=\"sk-top-container\"><div class=\"sk-text-repr-fallback\"><pre>CountVectorizer(analyzer=&lt;function text_process at 0x0000022D763E4720&gt;)</pre><b>In a Jupyter environment, please rerun this cell to show the HTML representation or trust the notebook. <br />On GitHub, the HTML representation is unable to render, please try loading this page with nbviewer.org.</b></div><div class=\"sk-container\" hidden><div class=\"sk-item\"><div class=\"sk-estimator sk-toggleable\"><input class=\"sk-toggleable__control sk-hidden--visually\" id=\"sk-estimator-id-1\" type=\"checkbox\" checked><label for=\"sk-estimator-id-1\" class=\"sk-toggleable__label sk-toggleable__label-arrow\">CountVectorizer</label><div class=\"sk-toggleable__content\"><pre>CountVectorizer(analyzer=&lt;function text_process at 0x0000022D763E4720&gt;)</pre></div></div></div></div></div>"
      ],
      "text/plain": [
       "CountVectorizer(analyzer=<function text_process at 0x0000022D763E4720>)"
      ]
     },
     "execution_count": 38,
     "metadata": {},
     "output_type": "execute_result"
    }
   ],
   "source": [
    "#transforms a list of text into a bag-of-words representation.\n",
    "#bow_transformer is now configured to preprocess text using the text_process function \n",
    "bow_transformer = CountVectorizer(analyzer=text_process)\n",
    "bow_transformer"
   ]
  },
  {
   "cell_type": "code",
   "execution_count": 39,
   "metadata": {},
   "outputs": [
    {
     "name": "stdout",
     "output_type": "stream",
     "text": [
      "total vocabulary: 44411\n"
     ]
    }
   ],
   "source": [
    "#preparing a bag-of-words representation for the 'reviewText' column and printing the size of the vocabulary.\n",
    "bow_transformer.fit(df_sampled['reviewText'])\n",
    "print(\"total vocabulary:\",len(bow_transformer.vocabulary_))"
   ]
  },
  {
   "cell_type": "code",
   "execution_count": 40,
   "metadata": {},
   "outputs": [
    {
     "name": "stdout",
     "output_type": "stream",
     "text": [
      "i got year old sister . she love . i realli realli n't complaint . yeah\n"
     ]
    }
   ],
   "source": [
    "review4 = df_sampled['reviewText'].iloc[4]\n",
    "print(review4)"
   ]
  },
  {
   "cell_type": "code",
   "execution_count": 41,
   "metadata": {},
   "outputs": [
    {
     "name": "stdout",
     "output_type": "stream",
     "text": [
      "  (0, 9427)\t1\n",
      "  (0, 17222)\t1\n",
      "  (0, 23020)\t1\n",
      "  (0, 26547)\t1\n",
      "  (0, 27006)\t1\n",
      "  (0, 31849)\t2\n",
      "  (0, 35326)\t1\n",
      "  (0, 44068)\t1\n",
      "  (0, 44070)\t1\n",
      "(1, 44411)\n"
     ]
    }
   ],
   "source": [
    "bow_msg4 = bow_transformer.transform([review4])\n",
    "print(bow_msg4)\n",
    "print(bow_msg4.shape)"
   ]
  },
  {
   "cell_type": "code",
   "execution_count": 42,
   "metadata": {},
   "outputs": [
    {
     "name": "stdout",
     "output_type": "stream",
     "text": [
      "Shape of bag of words transformer for the entire reviews corpus: (31858, 27997)\n",
      "Amount of non-zero values in the bag of words model: 1128515\n"
     ]
    }
   ],
   "source": [
    "\n",
    "\n",
    "# Assuming df_sampled['reviewText'] is your reviews corpus\n",
    "corpus = df_sampled['reviewText']\n",
    "\n",
    "# Initialize and fit CountVectorizer\n",
    "bow_transformer = CountVectorizer()\n",
    "bow_reviews = bow_transformer.fit_transform(corpus)\n",
    "\n",
    "# Print the shape and number of non-zero values\n",
    "print(\"Shape of bag of words transformer for the entire reviews corpus:\", bow_reviews.shape)\n",
    "print(\"Amount of non-zero values in the bag of words model:\", bow_reviews.nnz)"
   ]
  },
  {
   "cell_type": "code",
   "execution_count": 43,
   "metadata": {
    "scrolled": true
   },
   "outputs": [
    {
     "name": "stdout",
     "output_type": "stream",
     "text": [
      "sparsity: 0.13\n"
     ]
    }
   ],
   "source": [
    "\n",
    "#sparsity helps you understand how spread out or concentrated the words are across your documents\n",
    "\n",
    "print(\"sparsity:\", np.round((bow_reviews.nnz / (bow_reviews.shape[0] * bow_reviews.shape[1])) * 100, 2))"
   ]
  },
  {
   "cell_type": "code",
   "execution_count": null,
   "metadata": {},
   "outputs": [],
   "source": []
  },
  {
   "cell_type": "code",
   "execution_count": 44,
   "metadata": {},
   "outputs": [],
   "source": [
    "# split the dataset into training and testing sets\n",
    "review_train, review_test, class_train, class_test = train_test_split(df_sampled['reviewText'],df_sampled['class'],test_size = 0.35)"
   ]
  },
  {
   "cell_type": "code",
   "execution_count": 45,
   "metadata": {},
   "outputs": [
    {
     "name": "stdout",
     "output_type": "stream",
     "text": [
      "  (0, 6944)\t1\n",
      "  (0, 12717)\t1\n",
      "  (0, 16982)\t1\n",
      "  (0, 19596)\t1\n",
      "  (0, 19938)\t1\n",
      "  (0, 23547)\t2\n",
      "  (0, 26093)\t1\n",
      "  (0, 32640)\t1\n",
      "  (0, 32642)\t1\n"
     ]
    }
   ],
   "source": [
    "vectorizer = CountVectorizer(analyzer=text_process)\n",
    "bow_reviews = vectorizer.fit_transform(review_train)\n",
    "bow_msg4 = vectorizer.transform([review4])\n",
    "\n",
    "tfidf_transformer = TfidfTransformer().fit(bow_reviews)\n",
    "tfidf_rev4 = tfidf_transformer.transform(bow_msg4)\n",
    "print(bow_msg4)"
   ]
  },
  {
   "cell_type": "code",
   "execution_count": 46,
   "metadata": {},
   "outputs": [
    {
     "name": "stdout",
     "output_type": "stream",
     "text": [
      "10.245128197461847\n",
      "10.245128197461847\n"
     ]
    }
   ],
   "source": [
    "\n",
    "print(tfidf_transformer.idf_[bow_transformer.vocabulary_['good']])\n",
    "print(tfidf_transformer.idf_[bow_transformer.vocabulary_['ok']])\n"
   ]
  },
  {
   "cell_type": "code",
   "execution_count": 47,
   "metadata": {},
   "outputs": [
    {
     "name": "stdout",
     "output_type": "stream",
     "text": [
      "shape: (20707, 32893)\n",
      "no. of dimensions: 2\n"
     ]
    }
   ],
   "source": [
    "tfidf_reviews = tfidf_transformer.transform(bow_reviews)\n",
    "print(\"shape:\", tfidf_reviews.shape)\n",
    "print(\"no. of dimensions:\", tfidf_reviews.ndim)"
   ]
  },
  {
   "cell_type": "markdown",
   "metadata": {},
   "source": [
    "crating training and testing data"
   ]
  },
  {
   "cell_type": "code",
   "execution_count": 48,
   "metadata": {},
   "outputs": [],
   "source": [
    "from sklearn.pipeline import Pipeline\n",
    "from sklearn.feature_extraction.text import CountVectorizer, TfidfTransformer\n",
    "from sklearn.naive_bayes import MultinomialNB"
   ]
  },
  {
   "cell_type": "code",
   "execution_count": 55,
   "metadata": {},
   "outputs": [],
   "source": [
    "pipeline = Pipeline([\n",
    "    ('bow',CountVectorizer(analyzer=text_process)),\n",
    "    ('tfidf',TfidfTransformer()),\n",
    "    ('classifier',MultinomialNB())\n",
    "])"
   ]
  },
  {
   "cell_type": "markdown",
   "metadata": {},
   "source": [
    "traning and testing MUltinomial Naive Bayes algorithm on preprocessed data"
   ]
  },
  {
   "cell_type": "code",
   "execution_count": 56,
   "metadata": {
    "scrolled": true
   },
   "outputs": [
    {
     "data": {
      "text/html": [
       "<style>#sk-container-id-2 {color: black;}#sk-container-id-2 pre{padding: 0;}#sk-container-id-2 div.sk-toggleable {background-color: white;}#sk-container-id-2 label.sk-toggleable__label {cursor: pointer;display: block;width: 100%;margin-bottom: 0;padding: 0.3em;box-sizing: border-box;text-align: center;}#sk-container-id-2 label.sk-toggleable__label-arrow:before {content: \"▸\";float: left;margin-right: 0.25em;color: #696969;}#sk-container-id-2 label.sk-toggleable__label-arrow:hover:before {color: black;}#sk-container-id-2 div.sk-estimator:hover label.sk-toggleable__label-arrow:before {color: black;}#sk-container-id-2 div.sk-toggleable__content {max-height: 0;max-width: 0;overflow: hidden;text-align: left;background-color: #f0f8ff;}#sk-container-id-2 div.sk-toggleable__content pre {margin: 0.2em;color: black;border-radius: 0.25em;background-color: #f0f8ff;}#sk-container-id-2 input.sk-toggleable__control:checked~div.sk-toggleable__content {max-height: 200px;max-width: 100%;overflow: auto;}#sk-container-id-2 input.sk-toggleable__control:checked~label.sk-toggleable__label-arrow:before {content: \"▾\";}#sk-container-id-2 div.sk-estimator input.sk-toggleable__control:checked~label.sk-toggleable__label {background-color: #d4ebff;}#sk-container-id-2 div.sk-label input.sk-toggleable__control:checked~label.sk-toggleable__label {background-color: #d4ebff;}#sk-container-id-2 input.sk-hidden--visually {border: 0;clip: rect(1px 1px 1px 1px);clip: rect(1px, 1px, 1px, 1px);height: 1px;margin: -1px;overflow: hidden;padding: 0;position: absolute;width: 1px;}#sk-container-id-2 div.sk-estimator {font-family: monospace;background-color: #f0f8ff;border: 1px dotted black;border-radius: 0.25em;box-sizing: border-box;margin-bottom: 0.5em;}#sk-container-id-2 div.sk-estimator:hover {background-color: #d4ebff;}#sk-container-id-2 div.sk-parallel-item::after {content: \"\";width: 100%;border-bottom: 1px solid gray;flex-grow: 1;}#sk-container-id-2 div.sk-label:hover label.sk-toggleable__label {background-color: #d4ebff;}#sk-container-id-2 div.sk-serial::before {content: \"\";position: absolute;border-left: 1px solid gray;box-sizing: border-box;top: 0;bottom: 0;left: 50%;z-index: 0;}#sk-container-id-2 div.sk-serial {display: flex;flex-direction: column;align-items: center;background-color: white;padding-right: 0.2em;padding-left: 0.2em;position: relative;}#sk-container-id-2 div.sk-item {position: relative;z-index: 1;}#sk-container-id-2 div.sk-parallel {display: flex;align-items: stretch;justify-content: center;background-color: white;position: relative;}#sk-container-id-2 div.sk-item::before, #sk-container-id-2 div.sk-parallel-item::before {content: \"\";position: absolute;border-left: 1px solid gray;box-sizing: border-box;top: 0;bottom: 0;left: 50%;z-index: -1;}#sk-container-id-2 div.sk-parallel-item {display: flex;flex-direction: column;z-index: 1;position: relative;background-color: white;}#sk-container-id-2 div.sk-parallel-item:first-child::after {align-self: flex-end;width: 50%;}#sk-container-id-2 div.sk-parallel-item:last-child::after {align-self: flex-start;width: 50%;}#sk-container-id-2 div.sk-parallel-item:only-child::after {width: 0;}#sk-container-id-2 div.sk-dashed-wrapped {border: 1px dashed gray;margin: 0 0.4em 0.5em 0.4em;box-sizing: border-box;padding-bottom: 0.4em;background-color: white;}#sk-container-id-2 div.sk-label label {font-family: monospace;font-weight: bold;display: inline-block;line-height: 1.2em;}#sk-container-id-2 div.sk-label-container {text-align: center;}#sk-container-id-2 div.sk-container {/* jupyter's `normalize.less` sets `[hidden] { display: none; }` but bootstrap.min.css set `[hidden] { display: none !important; }` so we also need the `!important` here to be able to override the default hidden behavior on the sphinx rendered scikit-learn.org. See: https://github.com/scikit-learn/scikit-learn/issues/21755 */display: inline-block !important;position: relative;}#sk-container-id-2 div.sk-text-repr-fallback {display: none;}</style><div id=\"sk-container-id-2\" class=\"sk-top-container\"><div class=\"sk-text-repr-fallback\"><pre>Pipeline(steps=[(&#x27;bow&#x27;,\n",
       "                 CountVectorizer(analyzer=&lt;function text_process at 0x000001FF0CC7B1A0&gt;)),\n",
       "                (&#x27;tfidf&#x27;, TfidfTransformer()),\n",
       "                (&#x27;classifier&#x27;, MultinomialNB())])</pre><b>In a Jupyter environment, please rerun this cell to show the HTML representation or trust the notebook. <br />On GitHub, the HTML representation is unable to render, please try loading this page with nbviewer.org.</b></div><div class=\"sk-container\" hidden><div class=\"sk-item sk-dashed-wrapped\"><div class=\"sk-label-container\"><div class=\"sk-label sk-toggleable\"><input class=\"sk-toggleable__control sk-hidden--visually\" id=\"sk-estimator-id-2\" type=\"checkbox\" ><label for=\"sk-estimator-id-2\" class=\"sk-toggleable__label sk-toggleable__label-arrow\">Pipeline</label><div class=\"sk-toggleable__content\"><pre>Pipeline(steps=[(&#x27;bow&#x27;,\n",
       "                 CountVectorizer(analyzer=&lt;function text_process at 0x000001FF0CC7B1A0&gt;)),\n",
       "                (&#x27;tfidf&#x27;, TfidfTransformer()),\n",
       "                (&#x27;classifier&#x27;, MultinomialNB())])</pre></div></div></div><div class=\"sk-serial\"><div class=\"sk-item\"><div class=\"sk-estimator sk-toggleable\"><input class=\"sk-toggleable__control sk-hidden--visually\" id=\"sk-estimator-id-3\" type=\"checkbox\" ><label for=\"sk-estimator-id-3\" class=\"sk-toggleable__label sk-toggleable__label-arrow\">CountVectorizer</label><div class=\"sk-toggleable__content\"><pre>CountVectorizer(analyzer=&lt;function text_process at 0x000001FF0CC7B1A0&gt;)</pre></div></div></div><div class=\"sk-item\"><div class=\"sk-estimator sk-toggleable\"><input class=\"sk-toggleable__control sk-hidden--visually\" id=\"sk-estimator-id-4\" type=\"checkbox\" ><label for=\"sk-estimator-id-4\" class=\"sk-toggleable__label sk-toggleable__label-arrow\">TfidfTransformer</label><div class=\"sk-toggleable__content\"><pre>TfidfTransformer()</pre></div></div></div><div class=\"sk-item\"><div class=\"sk-estimator sk-toggleable\"><input class=\"sk-toggleable__control sk-hidden--visually\" id=\"sk-estimator-id-5\" type=\"checkbox\" ><label for=\"sk-estimator-id-5\" class=\"sk-toggleable__label sk-toggleable__label-arrow\">MultinomialNB</label><div class=\"sk-toggleable__content\"><pre>MultinomialNB()</pre></div></div></div></div></div></div></div>"
      ],
      "text/plain": [
       "Pipeline(steps=[('bow',\n",
       "                 CountVectorizer(analyzer=<function text_process at 0x000001FF0CC7B1A0>)),\n",
       "                ('tfidf', TfidfTransformer()),\n",
       "                ('classifier', MultinomialNB())])"
      ]
     },
     "execution_count": 56,
     "metadata": {},
     "output_type": "execute_result"
    }
   ],
   "source": [
    "pipeline.fit(review_train,class_train)"
   ]
  },
  {
   "cell_type": "code",
   "execution_count": 57,
   "metadata": {},
   "outputs": [
    {
     "data": {
      "text/plain": [
       "array([1, 1, 1, ..., 1, 1, 1], dtype=int64)"
      ]
     },
     "execution_count": 57,
     "metadata": {},
     "output_type": "execute_result"
    }
   ],
   "source": [
    "predictions = pipeline.predict(review_test)\n",
    "predictions"
   ]
  },
  {
   "cell_type": "code",
   "execution_count": 58,
   "metadata": {},
   "outputs": [],
   "source": [
    "# Assuming 'pipeline' is your trained classifier\n",
    "y_probabilities = pipeline.predict_proba(review_test)\n",
    "y_predictions = (y_probabilities[:, 1] > 0.3).astype(int)\n"
   ]
  },
  {
   "cell_type": "code",
   "execution_count": 59,
   "metadata": {},
   "outputs": [
    {
     "name": "stdout",
     "output_type": "stream",
     "text": [
      "Classification Report:               precision    recall  f1-score   support\n",
      "\n",
      "           0       0.12      0.00      0.00      3238\n",
      "           1       0.71      1.00      0.83      7913\n",
      "\n",
      "    accuracy                           0.71     11151\n",
      "   macro avg       0.42      0.50      0.42     11151\n",
      "weighted avg       0.54      0.71      0.59     11151\n",
      "\n",
      "Confusion matrix: [[   1 3237]\n",
      " [   7 7906]]\n",
      "Accuracy score: 0.7090843870504887\n"
     ]
    }
   ],
   "source": [
    "print('Classification Report:' , classification_report(class_test,predictions))\n",
    "print('Confusion matrix:', confusion_matrix(class_test,predictions))\n",
    "print('Accuracy score:', accuracy_score(class_test,predictions))"
   ]
  },
  {
   "cell_type": "code",
   "execution_count": 60,
   "metadata": {},
   "outputs": [
    {
     "data": {
      "text/plain": [
       "'70.91%'"
      ]
     },
     "execution_count": 60,
     "metadata": {},
     "output_type": "execute_result"
    }
   ],
   "source": [
    "str(np.round(accuracy_score(class_test, predictions) * 100, 2)) + '%'\n"
   ]
  },
  {
   "cell_type": "markdown",
   "metadata": {},
   "source": [
    "RANDOM FOREST Classifier\n"
   ]
  },
  {
   "cell_type": "code",
   "execution_count": 61,
   "metadata": {},
   "outputs": [],
   "source": [
    "pipeline = Pipeline([\n",
    "    ('bow',CountVectorizer(analyzer=text_process)),\n",
    "    ('tfidf',TfidfTransformer()),\n",
    "    ('classifier',RandomForestClassifier())\n",
    "])"
   ]
  },
  {
   "cell_type": "code",
   "execution_count": 62,
   "metadata": {},
   "outputs": [
    {
     "data": {
      "text/html": [
       "<style>#sk-container-id-3 {color: black;}#sk-container-id-3 pre{padding: 0;}#sk-container-id-3 div.sk-toggleable {background-color: white;}#sk-container-id-3 label.sk-toggleable__label {cursor: pointer;display: block;width: 100%;margin-bottom: 0;padding: 0.3em;box-sizing: border-box;text-align: center;}#sk-container-id-3 label.sk-toggleable__label-arrow:before {content: \"▸\";float: left;margin-right: 0.25em;color: #696969;}#sk-container-id-3 label.sk-toggleable__label-arrow:hover:before {color: black;}#sk-container-id-3 div.sk-estimator:hover label.sk-toggleable__label-arrow:before {color: black;}#sk-container-id-3 div.sk-toggleable__content {max-height: 0;max-width: 0;overflow: hidden;text-align: left;background-color: #f0f8ff;}#sk-container-id-3 div.sk-toggleable__content pre {margin: 0.2em;color: black;border-radius: 0.25em;background-color: #f0f8ff;}#sk-container-id-3 input.sk-toggleable__control:checked~div.sk-toggleable__content {max-height: 200px;max-width: 100%;overflow: auto;}#sk-container-id-3 input.sk-toggleable__control:checked~label.sk-toggleable__label-arrow:before {content: \"▾\";}#sk-container-id-3 div.sk-estimator input.sk-toggleable__control:checked~label.sk-toggleable__label {background-color: #d4ebff;}#sk-container-id-3 div.sk-label input.sk-toggleable__control:checked~label.sk-toggleable__label {background-color: #d4ebff;}#sk-container-id-3 input.sk-hidden--visually {border: 0;clip: rect(1px 1px 1px 1px);clip: rect(1px, 1px, 1px, 1px);height: 1px;margin: -1px;overflow: hidden;padding: 0;position: absolute;width: 1px;}#sk-container-id-3 div.sk-estimator {font-family: monospace;background-color: #f0f8ff;border: 1px dotted black;border-radius: 0.25em;box-sizing: border-box;margin-bottom: 0.5em;}#sk-container-id-3 div.sk-estimator:hover {background-color: #d4ebff;}#sk-container-id-3 div.sk-parallel-item::after {content: \"\";width: 100%;border-bottom: 1px solid gray;flex-grow: 1;}#sk-container-id-3 div.sk-label:hover label.sk-toggleable__label {background-color: #d4ebff;}#sk-container-id-3 div.sk-serial::before {content: \"\";position: absolute;border-left: 1px solid gray;box-sizing: border-box;top: 0;bottom: 0;left: 50%;z-index: 0;}#sk-container-id-3 div.sk-serial {display: flex;flex-direction: column;align-items: center;background-color: white;padding-right: 0.2em;padding-left: 0.2em;position: relative;}#sk-container-id-3 div.sk-item {position: relative;z-index: 1;}#sk-container-id-3 div.sk-parallel {display: flex;align-items: stretch;justify-content: center;background-color: white;position: relative;}#sk-container-id-3 div.sk-item::before, #sk-container-id-3 div.sk-parallel-item::before {content: \"\";position: absolute;border-left: 1px solid gray;box-sizing: border-box;top: 0;bottom: 0;left: 50%;z-index: -1;}#sk-container-id-3 div.sk-parallel-item {display: flex;flex-direction: column;z-index: 1;position: relative;background-color: white;}#sk-container-id-3 div.sk-parallel-item:first-child::after {align-self: flex-end;width: 50%;}#sk-container-id-3 div.sk-parallel-item:last-child::after {align-self: flex-start;width: 50%;}#sk-container-id-3 div.sk-parallel-item:only-child::after {width: 0;}#sk-container-id-3 div.sk-dashed-wrapped {border: 1px dashed gray;margin: 0 0.4em 0.5em 0.4em;box-sizing: border-box;padding-bottom: 0.4em;background-color: white;}#sk-container-id-3 div.sk-label label {font-family: monospace;font-weight: bold;display: inline-block;line-height: 1.2em;}#sk-container-id-3 div.sk-label-container {text-align: center;}#sk-container-id-3 div.sk-container {/* jupyter's `normalize.less` sets `[hidden] { display: none; }` but bootstrap.min.css set `[hidden] { display: none !important; }` so we also need the `!important` here to be able to override the default hidden behavior on the sphinx rendered scikit-learn.org. See: https://github.com/scikit-learn/scikit-learn/issues/21755 */display: inline-block !important;position: relative;}#sk-container-id-3 div.sk-text-repr-fallback {display: none;}</style><div id=\"sk-container-id-3\" class=\"sk-top-container\"><div class=\"sk-text-repr-fallback\"><pre>Pipeline(steps=[(&#x27;bow&#x27;,\n",
       "                 CountVectorizer(analyzer=&lt;function text_process at 0x000001FF0CC7B1A0&gt;)),\n",
       "                (&#x27;tfidf&#x27;, TfidfTransformer()),\n",
       "                (&#x27;classifier&#x27;, RandomForestClassifier())])</pre><b>In a Jupyter environment, please rerun this cell to show the HTML representation or trust the notebook. <br />On GitHub, the HTML representation is unable to render, please try loading this page with nbviewer.org.</b></div><div class=\"sk-container\" hidden><div class=\"sk-item sk-dashed-wrapped\"><div class=\"sk-label-container\"><div class=\"sk-label sk-toggleable\"><input class=\"sk-toggleable__control sk-hidden--visually\" id=\"sk-estimator-id-6\" type=\"checkbox\" ><label for=\"sk-estimator-id-6\" class=\"sk-toggleable__label sk-toggleable__label-arrow\">Pipeline</label><div class=\"sk-toggleable__content\"><pre>Pipeline(steps=[(&#x27;bow&#x27;,\n",
       "                 CountVectorizer(analyzer=&lt;function text_process at 0x000001FF0CC7B1A0&gt;)),\n",
       "                (&#x27;tfidf&#x27;, TfidfTransformer()),\n",
       "                (&#x27;classifier&#x27;, RandomForestClassifier())])</pre></div></div></div><div class=\"sk-serial\"><div class=\"sk-item\"><div class=\"sk-estimator sk-toggleable\"><input class=\"sk-toggleable__control sk-hidden--visually\" id=\"sk-estimator-id-7\" type=\"checkbox\" ><label for=\"sk-estimator-id-7\" class=\"sk-toggleable__label sk-toggleable__label-arrow\">CountVectorizer</label><div class=\"sk-toggleable__content\"><pre>CountVectorizer(analyzer=&lt;function text_process at 0x000001FF0CC7B1A0&gt;)</pre></div></div></div><div class=\"sk-item\"><div class=\"sk-estimator sk-toggleable\"><input class=\"sk-toggleable__control sk-hidden--visually\" id=\"sk-estimator-id-8\" type=\"checkbox\" ><label for=\"sk-estimator-id-8\" class=\"sk-toggleable__label sk-toggleable__label-arrow\">TfidfTransformer</label><div class=\"sk-toggleable__content\"><pre>TfidfTransformer()</pre></div></div></div><div class=\"sk-item\"><div class=\"sk-estimator sk-toggleable\"><input class=\"sk-toggleable__control sk-hidden--visually\" id=\"sk-estimator-id-9\" type=\"checkbox\" ><label for=\"sk-estimator-id-9\" class=\"sk-toggleable__label sk-toggleable__label-arrow\">RandomForestClassifier</label><div class=\"sk-toggleable__content\"><pre>RandomForestClassifier()</pre></div></div></div></div></div></div></div>"
      ],
      "text/plain": [
       "Pipeline(steps=[('bow',\n",
       "                 CountVectorizer(analyzer=<function text_process at 0x000001FF0CC7B1A0>)),\n",
       "                ('tfidf', TfidfTransformer()),\n",
       "                ('classifier', RandomForestClassifier())])"
      ]
     },
     "execution_count": 62,
     "metadata": {},
     "output_type": "execute_result"
    }
   ],
   "source": [
    "pipeline.fit(review_train,class_train)"
   ]
  },
  {
   "cell_type": "code",
   "execution_count": 63,
   "metadata": {
    "scrolled": true
   },
   "outputs": [
    {
     "data": {
      "text/plain": [
       "array([1, 1, 1, ..., 1, 1, 1], dtype=int64)"
      ]
     },
     "execution_count": 63,
     "metadata": {},
     "output_type": "execute_result"
    }
   ],
   "source": [
    "rfc_pred = pipeline.predict(review_test)\n",
    "rfc_pred"
   ]
  },
  {
   "cell_type": "code",
   "execution_count": 64,
   "metadata": {},
   "outputs": [
    {
     "name": "stdout",
     "output_type": "stream",
     "text": [
      "Classification Report:               precision    recall  f1-score   support\n",
      "\n",
      "           0       0.31      0.01      0.01      3238\n",
      "           1       0.71      0.99      0.83      7913\n",
      "\n",
      "    accuracy                           0.71     11151\n",
      "   macro avg       0.51      0.50      0.42     11151\n",
      "weighted avg       0.59      0.71      0.59     11151\n",
      "\n",
      "Confusion matrix: [[  19 3219]\n",
      " [  43 7870]]\n",
      "Accuracy score: 0.7074701820464532\n",
      "Model prediction Accuracy: 70.75%\n"
     ]
    }
   ],
   "source": [
    "print('Classification Report:' , classification_report(class_test,rfc_pred))\n",
    "print('Confusion matrix:', confusion_matrix(class_test,rfc_pred))\n",
    "print('Accuracy score:', accuracy_score(class_test,rfc_pred))\n",
    "print('Model prediction Accuracy:' , str(np.round(accuracy_score(class_test,rfc_pred)*100,2)) + '%')"
   ]
  },
  {
   "cell_type": "markdown",
   "metadata": {},
   "source": [
    "svc"
   ]
  },
  {
   "cell_type": "code",
   "execution_count": 50,
   "metadata": {},
   "outputs": [],
   "source": [
    "pipeline = Pipeline([\n",
    "    ('bow',CountVectorizer(analyzer=text_process)),\n",
    "    ('tfidf',TfidfTransformer()),\n",
    "    ('classifier',SVC())\n",
    "])"
   ]
  },
  {
   "cell_type": "code",
   "execution_count": 51,
   "metadata": {},
   "outputs": [
    {
     "data": {
      "text/html": [
       "<style>#sk-container-id-2 {color: black;}#sk-container-id-2 pre{padding: 0;}#sk-container-id-2 div.sk-toggleable {background-color: white;}#sk-container-id-2 label.sk-toggleable__label {cursor: pointer;display: block;width: 100%;margin-bottom: 0;padding: 0.3em;box-sizing: border-box;text-align: center;}#sk-container-id-2 label.sk-toggleable__label-arrow:before {content: \"▸\";float: left;margin-right: 0.25em;color: #696969;}#sk-container-id-2 label.sk-toggleable__label-arrow:hover:before {color: black;}#sk-container-id-2 div.sk-estimator:hover label.sk-toggleable__label-arrow:before {color: black;}#sk-container-id-2 div.sk-toggleable__content {max-height: 0;max-width: 0;overflow: hidden;text-align: left;background-color: #f0f8ff;}#sk-container-id-2 div.sk-toggleable__content pre {margin: 0.2em;color: black;border-radius: 0.25em;background-color: #f0f8ff;}#sk-container-id-2 input.sk-toggleable__control:checked~div.sk-toggleable__content {max-height: 200px;max-width: 100%;overflow: auto;}#sk-container-id-2 input.sk-toggleable__control:checked~label.sk-toggleable__label-arrow:before {content: \"▾\";}#sk-container-id-2 div.sk-estimator input.sk-toggleable__control:checked~label.sk-toggleable__label {background-color: #d4ebff;}#sk-container-id-2 div.sk-label input.sk-toggleable__control:checked~label.sk-toggleable__label {background-color: #d4ebff;}#sk-container-id-2 input.sk-hidden--visually {border: 0;clip: rect(1px 1px 1px 1px);clip: rect(1px, 1px, 1px, 1px);height: 1px;margin: -1px;overflow: hidden;padding: 0;position: absolute;width: 1px;}#sk-container-id-2 div.sk-estimator {font-family: monospace;background-color: #f0f8ff;border: 1px dotted black;border-radius: 0.25em;box-sizing: border-box;margin-bottom: 0.5em;}#sk-container-id-2 div.sk-estimator:hover {background-color: #d4ebff;}#sk-container-id-2 div.sk-parallel-item::after {content: \"\";width: 100%;border-bottom: 1px solid gray;flex-grow: 1;}#sk-container-id-2 div.sk-label:hover label.sk-toggleable__label {background-color: #d4ebff;}#sk-container-id-2 div.sk-serial::before {content: \"\";position: absolute;border-left: 1px solid gray;box-sizing: border-box;top: 0;bottom: 0;left: 50%;z-index: 0;}#sk-container-id-2 div.sk-serial {display: flex;flex-direction: column;align-items: center;background-color: white;padding-right: 0.2em;padding-left: 0.2em;position: relative;}#sk-container-id-2 div.sk-item {position: relative;z-index: 1;}#sk-container-id-2 div.sk-parallel {display: flex;align-items: stretch;justify-content: center;background-color: white;position: relative;}#sk-container-id-2 div.sk-item::before, #sk-container-id-2 div.sk-parallel-item::before {content: \"\";position: absolute;border-left: 1px solid gray;box-sizing: border-box;top: 0;bottom: 0;left: 50%;z-index: -1;}#sk-container-id-2 div.sk-parallel-item {display: flex;flex-direction: column;z-index: 1;position: relative;background-color: white;}#sk-container-id-2 div.sk-parallel-item:first-child::after {align-self: flex-end;width: 50%;}#sk-container-id-2 div.sk-parallel-item:last-child::after {align-self: flex-start;width: 50%;}#sk-container-id-2 div.sk-parallel-item:only-child::after {width: 0;}#sk-container-id-2 div.sk-dashed-wrapped {border: 1px dashed gray;margin: 0 0.4em 0.5em 0.4em;box-sizing: border-box;padding-bottom: 0.4em;background-color: white;}#sk-container-id-2 div.sk-label label {font-family: monospace;font-weight: bold;display: inline-block;line-height: 1.2em;}#sk-container-id-2 div.sk-label-container {text-align: center;}#sk-container-id-2 div.sk-container {/* jupyter's `normalize.less` sets `[hidden] { display: none; }` but bootstrap.min.css set `[hidden] { display: none !important; }` so we also need the `!important` here to be able to override the default hidden behavior on the sphinx rendered scikit-learn.org. See: https://github.com/scikit-learn/scikit-learn/issues/21755 */display: inline-block !important;position: relative;}#sk-container-id-2 div.sk-text-repr-fallback {display: none;}</style><div id=\"sk-container-id-2\" class=\"sk-top-container\"><div class=\"sk-text-repr-fallback\"><pre>Pipeline(steps=[(&#x27;bow&#x27;,\n",
       "                 CountVectorizer(analyzer=&lt;function text_process at 0x0000022D763E4720&gt;)),\n",
       "                (&#x27;tfidf&#x27;, TfidfTransformer()), (&#x27;classifier&#x27;, SVC())])</pre><b>In a Jupyter environment, please rerun this cell to show the HTML representation or trust the notebook. <br />On GitHub, the HTML representation is unable to render, please try loading this page with nbviewer.org.</b></div><div class=\"sk-container\" hidden><div class=\"sk-item sk-dashed-wrapped\"><div class=\"sk-label-container\"><div class=\"sk-label sk-toggleable\"><input class=\"sk-toggleable__control sk-hidden--visually\" id=\"sk-estimator-id-2\" type=\"checkbox\" ><label for=\"sk-estimator-id-2\" class=\"sk-toggleable__label sk-toggleable__label-arrow\">Pipeline</label><div class=\"sk-toggleable__content\"><pre>Pipeline(steps=[(&#x27;bow&#x27;,\n",
       "                 CountVectorizer(analyzer=&lt;function text_process at 0x0000022D763E4720&gt;)),\n",
       "                (&#x27;tfidf&#x27;, TfidfTransformer()), (&#x27;classifier&#x27;, SVC())])</pre></div></div></div><div class=\"sk-serial\"><div class=\"sk-item\"><div class=\"sk-estimator sk-toggleable\"><input class=\"sk-toggleable__control sk-hidden--visually\" id=\"sk-estimator-id-3\" type=\"checkbox\" ><label for=\"sk-estimator-id-3\" class=\"sk-toggleable__label sk-toggleable__label-arrow\">CountVectorizer</label><div class=\"sk-toggleable__content\"><pre>CountVectorizer(analyzer=&lt;function text_process at 0x0000022D763E4720&gt;)</pre></div></div></div><div class=\"sk-item\"><div class=\"sk-estimator sk-toggleable\"><input class=\"sk-toggleable__control sk-hidden--visually\" id=\"sk-estimator-id-4\" type=\"checkbox\" ><label for=\"sk-estimator-id-4\" class=\"sk-toggleable__label sk-toggleable__label-arrow\">TfidfTransformer</label><div class=\"sk-toggleable__content\"><pre>TfidfTransformer()</pre></div></div></div><div class=\"sk-item\"><div class=\"sk-estimator sk-toggleable\"><input class=\"sk-toggleable__control sk-hidden--visually\" id=\"sk-estimator-id-5\" type=\"checkbox\" ><label for=\"sk-estimator-id-5\" class=\"sk-toggleable__label sk-toggleable__label-arrow\">SVC</label><div class=\"sk-toggleable__content\"><pre>SVC()</pre></div></div></div></div></div></div></div>"
      ],
      "text/plain": [
       "Pipeline(steps=[('bow',\n",
       "                 CountVectorizer(analyzer=<function text_process at 0x0000022D763E4720>)),\n",
       "                ('tfidf', TfidfTransformer()), ('classifier', SVC())])"
      ]
     },
     "execution_count": 51,
     "metadata": {},
     "output_type": "execute_result"
    }
   ],
   "source": [
    "pipeline.fit(review_train,class_train)"
   ]
  },
  {
   "cell_type": "code",
   "execution_count": 55,
   "metadata": {},
   "outputs": [],
   "source": [
    "svc_pred = pipeline.predict(review_test)"
   ]
  },
  {
   "cell_type": "code",
   "execution_count": 56,
   "metadata": {},
   "outputs": [
    {
     "name": "stdout",
     "output_type": "stream",
     "text": [
      "Classification Report:               precision    recall  f1-score   support\n",
      "\n",
      "           0       0.25      0.00      0.00      3227\n",
      "           1       0.71      1.00      0.83      7924\n",
      "\n",
      "    accuracy                           0.71     11151\n",
      "   macro avg       0.48      0.50      0.42     11151\n",
      "weighted avg       0.58      0.71      0.59     11151\n",
      "\n",
      "Confusion matrix: [[   2 3225]\n",
      " [   6 7918]]\n",
      "Accuracy score: 0.7102502017756255\n",
      "Model prediction Accuracy: 71.03%\n"
     ]
    }
   ],
   "source": [
    "print('Classification Report:' , classification_report(class_test,svc_pred))\n",
    "print('Confusion matrix:', confusion_matrix(class_test,svc_pred))\n",
    "\n",
    "print('Accuracy score:', accuracy_score(class_test,svc_pred))\n",
    "print('Model prediction Accuracy:' , str(np.round(accuracy_score(class_test,svc_pred)*100,2)) + '%')"
   ]
  },
  {
   "cell_type": "code",
   "execution_count": null,
   "metadata": {},
   "outputs": [],
   "source": []
  }
 ],
 "metadata": {
  "colab": {
   "authorship_tag": "ABX9TyPOco6NWmRul1yqbHZ1J3qd",
   "mount_file_id": "1W3NBrSxKRXMElCtwuNwhUoPvyBND0FK_",
   "provenance": []
  },
  "kernelspec": {
   "display_name": "Python 3 (ipykernel)",
   "language": "python",
   "name": "python3"
  },
  "language_info": {
   "codemirror_mode": {
    "name": "ipython",
    "version": 3
   },
   "file_extension": ".py",
   "mimetype": "text/x-python",
   "name": "python",
   "nbconvert_exporter": "python",
   "pygments_lexer": "ipython3",
   "version": "3.11.5"
  }
 },
 "nbformat": 4,
 "nbformat_minor": 1
}
